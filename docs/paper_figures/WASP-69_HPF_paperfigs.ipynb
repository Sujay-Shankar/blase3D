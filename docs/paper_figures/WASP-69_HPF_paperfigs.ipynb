{
 "cells": [
  {
   "cell_type": "markdown",
   "metadata": {},
   "source": [
    "# WASP-69 with HPF Paper Figures:\n",
    "## Joint stellar/telluric tuning"
   ]
  },
  {
   "cell_type": "markdown",
   "metadata": {},
   "source": [
    "August 4, 2022: Work in progress!"
   ]
  },
  {
   "cell_type": "markdown",
   "metadata": {},
   "source": [
    "This notebook is merely a copy of our [Deep Dive on WASP-69](https://blase.readthedocs.io/en/latest/deep_dives/WASP-69_HPF_dive1.html), with the figures updated and annotated for publication quality.  Enjoy!\n"
   ]
  },
  {
   "cell_type": "code",
   "execution_count": null,
   "metadata": {},
   "outputs": [],
   "source": [
    "%config Completer.use_jedi = False"
   ]
  },
  {
   "cell_type": "code",
   "execution_count": null,
   "metadata": {},
   "outputs": [],
   "source": [
    "import torch\n",
    "from blase.emulator import SparseLogEmulator, ExtrinsicModel, InstrumentalModel\n",
    "import matplotlib.pyplot as plt\n",
    "from gollum.phoenix import PHOENIXSpectrum\n",
    "from gollum.telluric import TelFitSpectrum\n",
    "from blase.utils import doppler_grid\n",
    "import astropy.units as u\n",
    "import numpy as np\n",
    "\n",
    "if torch.cuda.is_available():\n",
    "    device = \"cuda\"\n",
    "else:\n",
    "    device = \"cpu\"\n",
    "    \n",
    "%matplotlib inline\n",
    "%config InlineBackend.figure_format='retina'"
   ]
  },
  {
   "cell_type": "code",
   "execution_count": null,
   "metadata": {},
   "outputs": [],
   "source": [
    "device"
   ]
  },
  {
   "cell_type": "markdown",
   "metadata": {},
   "source": [
    "## Pre-process the data\n",
    "We will quickly pre-process the HPF spectrum with the [muler](https://muler.readthedocs.io/en/latest/) library"
   ]
  },
  {
   "cell_type": "code",
   "execution_count": null,
   "metadata": {},
   "outputs": [],
   "source": [
    "from muler.hpf import HPFSpectrum"
   ]
  },
  {
   "cell_type": "code",
   "execution_count": null,
   "metadata": {},
   "outputs": [],
   "source": [
    "raw_data = HPFSpectrum(file='../../data/HPF/WASP-69/Goldilocks_20191019T015252_v1.0_0002.spectra.fits', order=2)"
   ]
  },
  {
   "cell_type": "code",
   "execution_count": null,
   "metadata": {},
   "outputs": [],
   "source": [
    "data = raw_data.sky_subtract().trim_edges().remove_nans().deblaze().normalize(normalize_by='peak')"
   ]
  },
  {
   "cell_type": "code",
   "execution_count": null,
   "metadata": {},
   "outputs": [],
   "source": [
    "ax = data.plot(yhi=1.1);\n",
    "ax.axhline(1.0, color='#95a5a6', linestyle='dashed');"
   ]
  },
  {
   "cell_type": "code",
   "execution_count": null,
   "metadata": {},
   "outputs": [],
   "source": [
    "wl_lo = 8300-30.0\n",
    "wl_hi = 8420+30.0\n",
    "wavelength_grid = doppler_grid(wl_lo, wl_hi)"
   ]
  },
  {
   "cell_type": "markdown",
   "metadata": {},
   "source": [
    "### Retrieve the Phoenix model\n",
    "\n",
    "WASP-69 has $T_{\\mathrm{eff}}=4700\\;K$ and $\\log{g}=4.5$, according to sources obtained through NASA Exoplanet Archive (Bonomo et al. 2017, Stassun et al. 2017, Anderson et al. 2014, and references therein).  Let's start with a PHOENIX model possessing these properties."
   ]
  },
  {
   "cell_type": "code",
   "execution_count": null,
   "metadata": {},
   "outputs": [],
   "source": [
    "spectrum = PHOENIXSpectrum(teff=4700, logg=4.5, wl_lo=wl_lo, wl_hi=wl_hi)\n",
    "spectrum = spectrum.divide_by_blackbody()\n",
    "spectrum = spectrum.normalize()\n",
    "continuum_fit = spectrum.fit_continuum(polyorder=5)\n",
    "spectrum = spectrum.divide(continuum_fit, handle_meta=\"ff\")"
   ]
  },
  {
   "cell_type": "markdown",
   "metadata": {},
   "source": [
    "### Retrieve the TelFit Telluric model\n",
    "\n",
    "Let's pick a precomputed TelFit model with comparable temperature and humidity as the data.  You can improve on your initial guess by tuning a TelFit model from scratch.  We choose to skip this laborious step here, but encourage practitioners to try it on their own."
   ]
  },
  {
   "cell_type": "code",
   "execution_count": null,
   "metadata": {},
   "outputs": [],
   "source": [
    "data.meta['header']['ENVTEM'], data.meta['header']['ENVHUM'] # Fahrenheit and Relative Humidity"
   ]
  },
  {
   "cell_type": "markdown",
   "metadata": {},
   "source": [
    "That's about 290 Kelvin and 40% humidity."
   ]
  },
  {
   "cell_type": "code",
   "execution_count": null,
   "metadata": {},
   "outputs": [],
   "source": [
    "web_link = 'https://utexas.box.com/shared/static/3d43yqog5htr93qbfql3acg4v4wzhbn8.txt'"
   ]
  },
  {
   "cell_type": "code",
   "execution_count": null,
   "metadata": {},
   "outputs": [],
   "source": [
    "telluric_spectrum_full = TelFitSpectrum(path=web_link).air_to_vacuum()\n",
    "mask = ((telluric_spectrum_full.wavelength.value > wl_lo) &\n",
    "        (telluric_spectrum_full.wavelength.value < wl_hi) )\n",
    "telluric_spectrum = telluric_spectrum_full.apply_boolean_mask(mask)\n",
    "telluric_wl = telluric_spectrum.wavelength.value\n",
    "telluric_flux = np.abs(telluric_spectrum.flux.value)\n",
    "telluric_lnflux = np.log(telluric_flux) # \"natural log\" or log base `e`\n",
    "telluric_lnflux[telluric_lnflux < -15] = -15"
   ]
  },
  {
   "cell_type": "markdown",
   "metadata": {},
   "source": [
    "## Initial guess"
   ]
  },
  {
   "cell_type": "code",
   "execution_count": null,
   "metadata": {},
   "outputs": [],
   "source": [
    "system_RV = -9.5 #km/s\n",
    "BERV = data.estimate_barycorr().to(u.km/u.s).value\n",
    "observed_RV = system_RV - BERV#km/s\n",
    "vsini = 2.2 #km/s\n",
    "resolving_power = 55_000\n",
    "initial_guess = spectrum.resample_to_uniform_in_velocity()\\\n",
    "                        .rv_shift(observed_RV)\\\n",
    "                        .rotationally_broaden(vsini)\\\n",
    "                        .instrumental_broaden(resolving_power)\\\n",
    "                        .resample(data)\n",
    "\n",
    "initial_telluric = telluric_spectrum.instrumental_broaden(resolving_power)\\\n",
    "                                         .resample(data)"
   ]
  },
  {
   "cell_type": "code",
   "execution_count": null,
   "metadata": {},
   "outputs": [],
   "source": [
    "ax = data.plot(label='data')\n",
    "initial_telluric.plot(ax=ax, label='TelFit (Initial)')\n",
    "initial_guess.plot(ax=ax, label='WASP-69 (Initial)')\n",
    "ax.legend(ncol=3);"
   ]
  },
  {
   "cell_type": "markdown",
   "metadata": {},
   "source": [
    "Ok, the lines are in the right place, but the amplitudes are inexact.  Let's tune them with `blase`!"
   ]
  },
  {
   "cell_type": "markdown",
   "metadata": {},
   "source": [
    "### Clone the stellar and telluric model"
   ]
  },
  {
   "cell_type": "code",
   "execution_count": null,
   "metadata": {},
   "outputs": [],
   "source": [
    "stellar_emulator = SparseLogEmulator(spectrum.wavelength.value, \n",
    "                                     np.log(spectrum.flux.value), prominence=0.01, device=device)\n",
    "stellar_emulator.to(device)"
   ]
  },
  {
   "cell_type": "code",
   "execution_count": null,
   "metadata": {},
   "outputs": [],
   "source": [
    "telluric_emulator = SparseLogEmulator(telluric_spectrum.wavelength.value, \n",
    "                                      np.log(telluric_spectrum.flux.value), \n",
    "                                      prominence=0.01, device=device)\n",
    "telluric_emulator.to(device)"
   ]
  },
  {
   "cell_type": "markdown",
   "metadata": {},
   "source": [
    "### Fine-tune the clone"
   ]
  },
  {
   "cell_type": "code",
   "execution_count": null,
   "metadata": {},
   "outputs": [],
   "source": [
    "stellar_emulator.optimize(epochs=1000, LR=0.01)"
   ]
  },
  {
   "cell_type": "code",
   "execution_count": null,
   "metadata": {},
   "outputs": [],
   "source": [
    "telluric_emulator.optimize(epochs=1000, LR=0.01)"
   ]
  },
  {
   "cell_type": "markdown",
   "metadata": {},
   "source": [
    "### Step 3: Extrinsic model"
   ]
  },
  {
   "cell_type": "code",
   "execution_count": null,
   "metadata": {},
   "outputs": [],
   "source": [
    "extrinsic_layer = ExtrinsicModel(wavelength_grid, device=device)\n",
    "vsini = torch.tensor(vsini)\n",
    "extrinsic_layer.ln_vsini.data = torch.log(vsini)\n",
    "extrinsic_layer.to(device)"
   ]
  },
  {
   "cell_type": "markdown",
   "metadata": {},
   "source": [
    "(Remap the stellar and telluric emulator to a standardized wavelength grid)."
   ]
  },
  {
   "cell_type": "code",
   "execution_count": null,
   "metadata": {},
   "outputs": [],
   "source": [
    "stellar_emulator = SparseLogEmulator(wavelength_grid, \n",
    "                                     init_state_dict=stellar_emulator.state_dict(), device=device)\n",
    "stellar_emulator.radial_velocity.data = torch.tensor(observed_RV)\n",
    "stellar_emulator.to(device)\n",
    "telluric_emulator = SparseLogEmulator(wavelength_grid, \n",
    "                                     init_state_dict=telluric_emulator.state_dict(), device=device)\n",
    "telluric_emulator.to(device)"
   ]
  },
  {
   "cell_type": "markdown",
   "metadata": {},
   "source": [
    "#### Forward model"
   ]
  },
  {
   "cell_type": "code",
   "execution_count": null,
   "metadata": {},
   "outputs": [],
   "source": [
    "stellar_flux = stellar_emulator.forward()\n",
    "broadened_flux = extrinsic_layer(stellar_flux)\n",
    "telluric_attenuation = telluric_emulator.forward()"
   ]
  },
  {
   "cell_type": "markdown",
   "metadata": {},
   "source": [
    "#### Joint telluric and stellar model"
   ]
  },
  {
   "cell_type": "code",
   "execution_count": null,
   "metadata": {},
   "outputs": [],
   "source": [
    "flux_at_telescope = broadened_flux * telluric_attenuation"
   ]
  },
  {
   "cell_type": "markdown",
   "metadata": {},
   "source": [
    "#### Instrumental model"
   ]
  },
  {
   "cell_type": "code",
   "execution_count": null,
   "metadata": {},
   "outputs": [],
   "source": [
    "instrumental_model = InstrumentalModel(data.bin_edges.value, wavelength_grid, device=device)\n",
    "instrumental_model.to(device)"
   ]
  },
  {
   "cell_type": "code",
   "execution_count": null,
   "metadata": {},
   "outputs": [],
   "source": [
    "instrumental_model.ln_sigma_angs.data = torch.log(torch.tensor(0.064))"
   ]
  },
  {
   "cell_type": "code",
   "execution_count": null,
   "metadata": {},
   "outputs": [],
   "source": [
    "detector_flux = instrumental_model.forward(flux_at_telescope)"
   ]
  },
  {
   "cell_type": "code",
   "execution_count": null,
   "metadata": {},
   "outputs": [],
   "source": [
    "ax = data.plot(yhi=1.1)\n",
    "ax.step(data.wavelength, detector_flux.detach().cpu().numpy());\n",
    "#ax.set_xlim(8320, 8340)"
   ]
  },
  {
   "cell_type": "markdown",
   "metadata": {},
   "source": [
    "## Transfer learn a semi-empirical model\n",
    "\n",
    "Here we compare the resampled joint model to the observed data to \"transfer learn\" underlying super resolution spectra."
   ]
  },
  {
   "cell_type": "code",
   "execution_count": null,
   "metadata": {},
   "outputs": [],
   "source": [
    "from torch import nn\n",
    "from tqdm import trange\n",
    "import torch.optim as optim"
   ]
  },
  {
   "cell_type": "code",
   "execution_count": null,
   "metadata": {},
   "outputs": [],
   "source": [
    "data_target = torch.tensor(\n",
    "    data.flux.value.astype(np.float64), device=device, dtype=torch.float64\n",
    ")\n",
    "\n",
    "data_wavelength = torch.tensor(\n",
    "    data.wavelength.value.astype(np.float64), device=device, dtype=torch.float64\n",
    ")"
   ]
  },
  {
   "cell_type": "code",
   "execution_count": null,
   "metadata": {},
   "outputs": [],
   "source": [
    "loss_fn = nn.MSELoss(reduction=\"mean\")"
   ]
  },
  {
   "cell_type": "markdown",
   "metadata": {},
   "source": [
    "### Fix certain parameters, allow others to vary\n",
    "As we have seen before, you can fix parameters by \"turning off their gradients\".  We will start by turning off *ALL* gradients.  Then turn on some."
   ]
  },
  {
   "cell_type": "code",
   "execution_count": null,
   "metadata": {},
   "outputs": [],
   "source": [
    "stellar_emulator.amplitudes.requires_grad = True\n",
    "stellar_emulator.radial_velocity.requires_grad = True\n",
    "stellar_emulator.sigma_widths.requires_grad = False\n",
    "stellar_emulator.gamma_widths.requires_grad = False\n",
    "telluric_emulator.amplitudes.requires_grad = True\n",
    "telluric_emulator.sigma_widths.requires_grad = False\n",
    "telluric_emulator.gamma_widths.requires_grad = False\n",
    "telluric_emulator.lam_centers.requires_grad = False\n",
    "instrumental_model.ln_sigma_angs.requires_grad = True"
   ]
  },
  {
   "cell_type": "code",
   "execution_count": null,
   "metadata": {},
   "outputs": [],
   "source": [
    "optimizer = optim.Adam(\n",
    "    list(filter(lambda p: p.requires_grad, stellar_emulator.parameters()))\n",
    "    + list(filter(lambda p: p.requires_grad, telluric_emulator.parameters()))\n",
    "    + list(filter(lambda p: p.requires_grad, extrinsic_layer.parameters()))\n",
    "    + list(filter(lambda p: p.requires_grad, instrumental_model.parameters())),\n",
    "    0.01,\n",
    "    amsgrad=True,\n",
    ")         "
   ]
  },
  {
   "cell_type": "code",
   "execution_count": null,
   "metadata": {},
   "outputs": [],
   "source": [
    "n_epochs = 2000\n",
    "losses = []"
   ]
  },
  {
   "cell_type": "markdown",
   "metadata": {},
   "source": [
    "## Regularization is fundamental\n",
    "\n",
    "The blase model as it stands is **too flexible**.  It must have regularization to balance its propensity to overfit."
   ]
  },
  {
   "cell_type": "markdown",
   "metadata": {},
   "source": [
    "First, we need to assign uncertainty to the data in order to weigh the prior against new data:"
   ]
  },
  {
   "cell_type": "code",
   "execution_count": null,
   "metadata": {},
   "outputs": [],
   "source": [
    "# We need uncertainty to be able to compute the posterior\n",
    "# Assert fixed per-pixel uncertainty for now\n",
    "per_pixel_uncertainty = torch.tensor(0.01, device=device, dtype=torch.float64)"
   ]
  },
  {
   "cell_type": "markdown",
   "metadata": {},
   "source": [
    "Then we need the prior.  For now, let's just apply priors on the amplitudes (almost everything else is fixed).  We need to set the regularization hyperparameter tuning."
   ]
  },
  {
   "cell_type": "code",
   "execution_count": null,
   "metadata": {},
   "outputs": [],
   "source": [
    "stellar_amp_regularization = 5.1\n",
    "telluric_amp_regularization = 5.1"
   ]
  },
  {
   "cell_type": "code",
   "execution_count": null,
   "metadata": {},
   "outputs": [],
   "source": [
    "import copy"
   ]
  },
  {
   "cell_type": "code",
   "execution_count": null,
   "metadata": {},
   "outputs": [],
   "source": [
    "with torch.no_grad():\n",
    "    stellar_init_amps = copy.deepcopy(stellar_emulator.amplitudes)\n",
    "    telluric_init_amps = copy.deepcopy(telluric_emulator.amplitudes)\n",
    "\n",
    "# Define the prior on the amplitude\n",
    "def ln_prior(stellar_amps, telluric_amps,):\n",
    "    \"\"\"\n",
    "    Prior for the amplitude vector\n",
    "    \"\"\"\n",
    "    amp_diff1 = stellar_init_amps - stellar_amps\n",
    "    ln_prior1 = 0.5 * torch.sum((amp_diff1 ** 2) / (stellar_amp_regularization ** 2))\n",
    "    \n",
    "    amp_diff2 = telluric_init_amps - telluric_amps\n",
    "    ln_prior2 = 0.5 * torch.sum((amp_diff2 ** 2) / (telluric_amp_regularization ** 2))\n",
    "\n",
    "    return ln_prior1 + ln_prior2"
   ]
  },
  {
   "cell_type": "code",
   "execution_count": null,
   "metadata": {},
   "outputs": [],
   "source": [
    "t_iter = trange(n_epochs, desc=\"Training\", leave=True)\n",
    "for epoch in t_iter:\n",
    "    stellar_emulator.train()\n",
    "    telluric_emulator.train()\n",
    "    extrinsic_layer.train()\n",
    "    instrumental_model.train()\n",
    "    \n",
    "    stellar_flux = stellar_emulator.forward()\n",
    "    broadened_flux = extrinsic_layer(stellar_flux)\n",
    "    telluric_attenuation = telluric_emulator.forward()\n",
    "    flux_at_telescope = broadened_flux * telluric_attenuation\n",
    "    detector_flux = instrumental_model.forward(flux_at_telescope)\n",
    "    \n",
    "    loss = loss_fn(detector_flux / per_pixel_uncertainty, data_target / per_pixel_uncertainty)\n",
    "    loss += ln_prior(stellar_emulator.amplitudes, telluric_emulator.amplitudes)\n",
    "    loss.backward()\n",
    "    optimizer.step()\n",
    "    optimizer.zero_grad()\n",
    "    t_iter.set_description(\"Training Loss: {:0.8f}\".format(loss.item()))"
   ]
  },
  {
   "cell_type": "markdown",
   "metadata": {},
   "source": [
    "### Spot check the transfer-learned joint model"
   ]
  },
  {
   "cell_type": "code",
   "execution_count": null,
   "metadata": {},
   "outputs": [],
   "source": [
    "ax = data.plot(yhi=1.1, label='HPF WASP-69')\n",
    "ax.step(data.wavelength, detector_flux.detach().cpu().numpy(), label='Joint model');\n",
    "ax.step(data.wavelength, instrumental_model.forward(broadened_flux).detach().cpu().numpy(),\n",
    "       label='Stellar-only');\n",
    "ax.legend()"
   ]
  },
  {
   "cell_type": "code",
   "execution_count": null,
   "metadata": {},
   "outputs": [],
   "source": [
    "ax = data.plot(yhi=1.1)\n",
    "ax.step(data.wavelength, detector_flux.detach().cpu().numpy());\n",
    "ax.set_xlim(8320, 8340)"
   ]
  },
  {
   "cell_type": "markdown",
   "metadata": {},
   "source": [
    "### Inspect the individual stellar and telluric components"
   ]
  },
  {
   "cell_type": "code",
   "execution_count": null,
   "metadata": {},
   "outputs": [],
   "source": [
    "with torch.no_grad():\n",
    "    stellar_emulator.radial_velocity.data *=0\n",
    "    stellar_post = stellar_emulator.forward().cpu().numpy()\n",
    "    telluric_post = telluric_emulator.forward().cpu().numpy()"
   ]
  },
  {
   "cell_type": "code",
   "execution_count": null,
   "metadata": {},
   "outputs": [],
   "source": [
    "ax = spectrum.plot(ylo=0, yhi=1.1, label='Native PHOENIX')\n",
    "ax.step(wavelength_grid, stellar_post, label='Transfer learned');\n",
    "ax.legend()\n",
    "ax.set_xlim(8320, 8340);"
   ]
  },
  {
   "cell_type": "markdown",
   "metadata": {},
   "source": [
    "You can see that the telluric and stellar models compensated for imperfections in the line wings by overbloating the amplitudes of bystander lines.  This unlikely tradeoff makes sense once the line is convolved with an instrument kernel."
   ]
  },
  {
   "cell_type": "code",
   "execution_count": null,
   "metadata": {},
   "outputs": [],
   "source": [
    "ax = telluric_spectrum.plot(ylo=0, yhi=1.1, label='Native TelFit')\n",
    "ax.step(wavelength_grid, telluric_post, label='Transfer learned');\n",
    "ax.legend()\n",
    "ax.set_xlim(8320, 8340);"
   ]
  }
 ],
 "metadata": {
  "kernelspec": {
   "display_name": "Python 3 (ipykernel)",
   "language": "python",
   "name": "python3"
  },
  "language_info": {
   "codemirror_mode": {
    "name": "ipython",
    "version": 3
   },
   "file_extension": ".py",
   "mimetype": "text/x-python",
   "name": "python",
   "nbconvert_exporter": "python",
   "pygments_lexer": "ipython3",
   "version": "3.9.13"
  }
 },
 "nbformat": 4,
 "nbformat_minor": 4
}
