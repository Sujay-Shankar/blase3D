{
 "cells": [
  {
   "cell_type": "markdown",
   "id": "b1b27ed2",
   "metadata": {},
   "source": [
    "# Demo 2: next steps"
   ]
  },
  {
   "cell_type": "code",
   "execution_count": 1,
   "id": "5692f887",
   "metadata": {},
   "outputs": [],
   "source": [
    "from blase import emulator "
   ]
  },
  {
   "cell_type": "code",
   "execution_count": 2,
   "id": "8354048d",
   "metadata": {},
   "outputs": [
    {
     "data": {
      "text/plain": [
       "blase.emulator.SparseLinearEmulator"
      ]
     },
     "execution_count": 2,
     "metadata": {},
     "output_type": "execute_result"
    }
   ],
   "source": [
    "emulator.SparseLinearEmulator"
   ]
  },
  {
   "cell_type": "code",
   "execution_count": 3,
   "id": "aed74669",
   "metadata": {},
   "outputs": [
    {
     "data": {
      "text/plain": [
       "blase.emulator.SparseLogEmulator"
      ]
     },
     "execution_count": 3,
     "metadata": {},
     "output_type": "execute_result"
    }
   ],
   "source": [
    "emulator.SparseLogEmulator"
   ]
  }
 ],
 "metadata": {
  "kernelspec": {
   "display_name": "Python 3 (ipykernel)",
   "language": "python",
   "name": "python3"
  },
  "language_info": {
   "codemirror_mode": {
    "name": "ipython",
    "version": 3
   },
   "file_extension": ".py",
   "mimetype": "text/x-python",
   "name": "python",
   "nbconvert_exporter": "python",
   "pygments_lexer": "ipython3",
   "version": "3.8.12"
  }
 },
 "nbformat": 4,
 "nbformat_minor": 5
}
