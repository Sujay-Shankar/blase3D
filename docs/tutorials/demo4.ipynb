{
 "cells": [
  {
   "cell_type": "markdown",
   "id": "0aca5d70",
   "metadata": {},
   "source": [
    "# Stellar rotational broadening and RV shifting\n",
    "\n",
    "The emergent spectrum of a star gets modulated by at least two *extrinsic* parameters: $v\\sin{i}$ and $RV$.  Here we show how to modulate a pre-trained cloned model with these two parameters."
   ]
  },
  {
   "cell_type": "code",
   "execution_count": null,
   "id": "212ddecc",
   "metadata": {},
   "outputs": [],
   "source": [
    "import torch\n",
    "from blase.emulator import SparseLinearEmulator, SparseLogEmulator\n",
    "from blase.utils import doppler_grid\n",
    "import matplotlib.pyplot as plt\n",
    "%config InlineBackend.figure_format='retina'"
   ]
  },
  {
   "cell_type": "code",
   "execution_count": null,
   "id": "eaf52d4a",
   "metadata": {},
   "outputs": [],
   "source": [
    "wl_lo = 11_000-60\n",
    "wl_hi = 11_180+60\n",
    "wavelength_grid = doppler_grid(wl_lo, wl_hi)"
   ]
  },
  {
   "cell_type": "markdown",
   "id": "be917f63",
   "metadata": {},
   "source": [
    "We can now use any wavelength grid we like!  We choose a uniform-in-velocity-spacing grid."
   ]
  },
  {
   "cell_type": "code",
   "execution_count": null,
   "id": "b2ac794f",
   "metadata": {},
   "outputs": [],
   "source": [
    "stellar_pretrained_model = torch.load('phoenix_clone_T4700g4p5_prom0p01_11000Ang.pt')\n",
    "telluric_pretrained_model = torch.load('telfit_clone_temp290_hum040_prom0p01_11000Ang.pt')"
   ]
  },
  {
   "cell_type": "code",
   "execution_count": null,
   "id": "09cafd56",
   "metadata": {},
   "outputs": [],
   "source": [
    "stellar_emulator = SparseLinearEmulator(wavelength_grid, \n",
    "                                        init_state_dict=stellar_pretrained_model)"
   ]
  },
  {
   "cell_type": "code",
   "execution_count": null,
   "id": "0fbcc91e",
   "metadata": {},
   "outputs": [],
   "source": [
    "telluric_emulator = SparseLogEmulator(wavelength_grid, \n",
    "                                        init_state_dict=telluric_pretrained_model)"
   ]
  },
  {
   "cell_type": "code",
   "execution_count": null,
   "id": "f8e9a952",
   "metadata": {},
   "outputs": [],
   "source": [
    "with torch.no_grad():\n",
    "    stellar_flux = stellar_emulator.forward().cpu().numpy()\n",
    "    telluric_transmission = telluric_emulator.forward().cpu().numpy()"
   ]
  },
  {
   "cell_type": "code",
   "execution_count": null,
   "id": "2d37aa48",
   "metadata": {},
   "outputs": [],
   "source": [
    "plt.step(wavelength_grid, stellar_flux, label='Pretrained stellar model')\n",
    "plt.fill_between(wavelength_grid, telluric_transmission, 1.0,\n",
    "                label='Pretrained telluric model absorption', alpha=0.1, color='k')\n",
    "plt.xlim(11_080, 11_090)\n",
    "plt.legend();"
   ]
  },
  {
   "cell_type": "markdown",
   "id": "47016899",
   "metadata": {},
   "source": [
    "Voilá! We successfully read-in our pretrained models!"
   ]
  }
 ],
 "metadata": {
  "kernelspec": {
   "display_name": "Python 3 (ipykernel)",
   "language": "python",
   "name": "python3"
  },
  "language_info": {
   "codemirror_mode": {
    "name": "ipython",
    "version": 3
   },
   "file_extension": ".py",
   "mimetype": "text/x-python",
   "name": "python",
   "nbconvert_exporter": "python",
   "pygments_lexer": "ipython3",
   "version": "3.9.13"
  }
 },
 "nbformat": 4,
 "nbformat_minor": 5
}
