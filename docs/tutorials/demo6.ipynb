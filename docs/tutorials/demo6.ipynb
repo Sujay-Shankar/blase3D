{
 "cells": [
  {
   "cell_type": "markdown",
   "id": "0aca5d70",
   "metadata": {},
   "source": [
    "# Step 5: Instrument broadening and resampling\n",
    "\n",
    "We now apply the fifth and final step of the model creation process: applying **instrumental modulation**.  \n",
    "\n",
    "We will first apply steps 1, 2, 3, and 4 to form a joint model for both the star and telluric atmosphere.  Then we apply an instrumental model layer."
   ]
  },
  {
   "cell_type": "code",
   "execution_count": 1,
   "id": "212ddecc",
   "metadata": {},
   "outputs": [],
   "source": [
    "import torch\n",
    "from blase.emulator import (SparseLinearEmulator, SparseLogEmulator, \n",
    "                            ExtrinsicModel, InstrumentalModel)\n",
    "from blase.utils import doppler_grid\n",
    "import matplotlib.pyplot as plt\n",
    "import math\n",
    "%config InlineBackend.figure_format='retina'"
   ]
  },
  {
   "cell_type": "code",
   "execution_count": 2,
   "id": "eaf52d4a",
   "metadata": {},
   "outputs": [],
   "source": [
    "wl_lo = 11_000-60\n",
    "wl_hi = 11_180+60\n",
    "wavelength_grid = doppler_grid(wl_lo, wl_hi)"
   ]
  },
  {
   "cell_type": "code",
   "execution_count": 3,
   "id": "b96c764c",
   "metadata": {},
   "outputs": [],
   "source": [
    "if torch.cuda.is_available():\n",
    "    device = \"cuda\"\n",
    "else:\n",
    "    device = \"cpu\""
   ]
  },
  {
   "cell_type": "markdown",
   "id": "37053324",
   "metadata": {},
   "source": [
    "### Apply Steps 1, 2, 3, and 4 to get the flux entering the telescope\n",
    "\n",
    "We will copy the code verbatim from last time for clarity."
   ]
  },
  {
   "cell_type": "markdown",
   "id": "0df20e3f",
   "metadata": {},
   "source": [
    "**Step 1:** Clone the stellar spectrum"
   ]
  },
  {
   "cell_type": "code",
   "execution_count": 4,
   "id": "0887180d",
   "metadata": {},
   "outputs": [
    {
     "name": "stdout",
     "output_type": "stream",
     "text": [
      "Initializing a sparse model with 426 spectral lines\n"
     ]
    },
    {
     "data": {
      "text/plain": [
       "SparseLinearEmulator()"
      ]
     },
     "execution_count": 4,
     "metadata": {},
     "output_type": "execute_result"
    }
   ],
   "source": [
    "stellar_pretrained_model = torch.load('phoenix_clone_T4700g4p5_prom0p01_11000Ang.pt')\n",
    "stellar_emulator = SparseLinearEmulator(wavelength_grid, \n",
    "                                        init_state_dict=stellar_pretrained_model)\n",
    "stellar_emulator.radial_velocity.data = torch.tensor(+25.1)\n",
    "stellar_emulator.to(device)"
   ]
  },
  {
   "cell_type": "markdown",
   "id": "e73bda3b",
   "metadata": {},
   "source": [
    "**Step 2:** Clone the Earth's atmosphere spectrum"
   ]
  },
  {
   "cell_type": "code",
   "execution_count": 5,
   "id": "3d677923",
   "metadata": {},
   "outputs": [
    {
     "name": "stdout",
     "output_type": "stream",
     "text": [
      "Initializing a sparse model with 265 spectral lines\n"
     ]
    },
    {
     "data": {
      "text/plain": [
       "SparseLogEmulator()"
      ]
     },
     "execution_count": 5,
     "metadata": {},
     "output_type": "execute_result"
    }
   ],
   "source": [
    "telluric_pretrained_model = torch.load('telfit_clone_temp290_hum040_prom0p01_11000Ang.pt')\n",
    "telluric_emulator = SparseLogEmulator(wavelength_grid, \n",
    "                                        init_state_dict=telluric_pretrained_model)\n",
    "telluric_emulator.to(device)"
   ]
  },
  {
   "cell_type": "markdown",
   "id": "c385a20d",
   "metadata": {},
   "source": [
    "**Step 3:** Apply $v\\sin{i}$ broadening and RV shifting"
   ]
  },
  {
   "cell_type": "code",
   "execution_count": 6,
   "id": "b2ac794f",
   "metadata": {},
   "outputs": [
    {
     "data": {
      "text/plain": [
       "ExtrinsicModel()"
      ]
     },
     "execution_count": 6,
     "metadata": {},
     "output_type": "execute_result"
    }
   ],
   "source": [
    "extrinsic_layer = ExtrinsicModel(wavelength_grid, device=device)\n",
    "vsini = torch.tensor(1.1)\n",
    "extrinsic_layer.ln_vsini.data = torch.log(vsini)\n",
    "extrinsic_layer.to(device)"
   ]
  },
  {
   "cell_type": "markdown",
   "id": "5e2eecdc",
   "metadata": {},
   "source": [
    "*Forward model* Steps 1$-$3."
   ]
  },
  {
   "cell_type": "code",
   "execution_count": 7,
   "id": "b2b2e96e",
   "metadata": {},
   "outputs": [],
   "source": [
    "stellar_flux = stellar_emulator.forward()\n",
    "broadened_flux = extrinsic_layer(stellar_flux)\n",
    "telluric_attenuation = telluric_emulator.forward()"
   ]
  },
  {
   "cell_type": "markdown",
   "id": "5d36886e",
   "metadata": {},
   "source": [
    "**Step 4:** Jointly model the star emergent spectrum and Earth's attenuation."
   ]
  },
  {
   "cell_type": "code",
   "execution_count": 8,
   "id": "595d3147",
   "metadata": {},
   "outputs": [],
   "source": [
    "flux_at_telescope = broadened_flux * telluric_attenuation "
   ]
  },
  {
   "cell_type": "markdown",
   "id": "76790464",
   "metadata": {},
   "source": [
    "We now move the fifth and final step..."
   ]
  },
  {
   "cell_type": "markdown",
   "id": "27f69dd5",
   "metadata": {},
   "source": [
    "### Philosophical Aside: Instrumental effects\n",
    "by gully\n",
    "\n",
    "Every spectrograph is characterized by a finite resolving power, $R\\equiv \\frac{\\lambda}{\\delta \\lambda}$.  In the pathological limit of *inifite* resolving power $\\lim_{R\\to \\infty}$ the spectrum recorded at the detector would identically resemble the flux coming into the telescope.  This unvarnished spectrum would possess no trace that the spectrum had interacted with a measurement aparatus.  \n",
    "\n",
    "Instead, **real instruments conduct Acts of Destruction**.  Here is a partial list:\n",
    "\n",
    "1. Blur the spectrum in a characteristic and predictable way\n",
    "2. Integrate and resample the spectrum onto discrete pixel coordinates.\n",
    "3. Warp spectral shapes based on wavelength dependent losses and throughputs\n",
    "4. Add detector noise\n",
    "\n",
    "`blasé` currently models Acts 1, 2, and 3 in the `InstrumentalModel` class.  The detector noise gets handled later in likelihood-based inference.\n",
    "\n",
    "#### Instrumental Blurring\n",
    "A common heuristic is that the character of the blurring process is roughly Gaussian, with a fixed [FWHM](https://en.wikipedia.org/wiki/Full_width_at_half_maximum) $\\approx \\frac{\\bar\\lambda}{\\bar R}$ across a limited bandwidth.  Such heuristics appear adequate for most purposes, and so we adopt them here.  These assumptions are imprecise at the high signal-to-noise ratio and large bandwidths of modern spectrographs, though, and we here at *blasé* aspire one day to push the envelope on the extent to which subtle instrumental modulations could be built into this step.\n",
    "\n",
    "#### Resampling\n",
    "`blasé` does one slightly non-standard step in the resampling process.  Rather than accept a list of pixel center coordinates, we demand that the user provide the list of pixel **bin edges**.  For most applications, these can be arrived upon by simply assuming an average pixel width $w$ and placing the pixel edges at $\\pm \\frac{w}{2}$.  But in other cases the bin edges are unevenly spaced, or there may be gaps between pixels.  `blasé` specifically anticipates a future in which this information is more widely available.  Luckily, [specutils](https://specutils.readthedocs.io/en/stable/) already provides an easy-to-use attribute `bin_edges` to input these non-standard coordinates."
   ]
  },
  {
   "cell_type": "markdown",
   "id": "c5884d3a",
   "metadata": {},
   "source": [
    "Let's fetch some HPF data to get a demo with real-world bin edges."
   ]
  },
  {
   "cell_type": "code",
   "execution_count": 9,
   "id": "0e29bcf9",
   "metadata": {},
   "outputs": [],
   "source": [
    "from muler.hpf import HPFSpectrum"
   ]
  },
  {
   "cell_type": "code",
   "execution_count": 10,
   "id": "0b0b3cce",
   "metadata": {},
   "outputs": [],
   "source": [
    "path = 'https://github.com/OttoStruve/muler_example_data/raw/main/HPF/01_A0V_standards/'\n",
    "filename = 'Goldilocks_20210801T083618_v1.0_0036.spectra.fits'\n",
    "raw_spectrum = HPFSpectrum(file = path+filename, order=20)\n",
    "\n",
    "data = raw_spectrum.remove_nans().trim_edges().sky_subtract()"
   ]
  },
  {
   "cell_type": "markdown",
   "id": "f3424c97",
   "metadata": {},
   "source": [
    "Notice that the bin_edges have [one more element](https://en.wikipedia.org/wiki/Off-by-one_error#Fencepost_error) than the wavelength centers.  A data spectrum with $N$ pixels will have $N+1$ bin edges."
   ]
  },
  {
   "cell_type": "code",
   "execution_count": 11,
   "id": "6f4ca98f",
   "metadata": {},
   "outputs": [
    {
     "data": {
      "text/plain": [
       "(2040, 2041)"
      ]
     },
     "execution_count": 11,
     "metadata": {},
     "output_type": "execute_result"
    }
   ],
   "source": [
    "len(data.wavelength), len(data.bin_edges)"
   ]
  },
  {
   "cell_type": "markdown",
   "id": "70ea1497",
   "metadata": {},
   "source": [
    "**Step 5:** Apply the instrumental broadening and resampling."
   ]
  },
  {
   "cell_type": "code",
   "execution_count": 12,
   "id": "b3383ae7",
   "metadata": {},
   "outputs": [
    {
     "data": {
      "text/plain": [
       "InstrumentalModel(\n",
       "  (linear_model): Linear(in_features=15, out_features=1, bias=True)\n",
       ")"
      ]
     },
     "execution_count": 12,
     "metadata": {},
     "output_type": "execute_result"
    }
   ],
   "source": [
    "instrumental_model = InstrumentalModel(data.bin_edges.value, wavelength_grid)\n",
    "instrumental_model.to(device)"
   ]
  },
  {
   "cell_type": "code",
   "execution_count": 13,
   "id": "2e8906ad",
   "metadata": {},
   "outputs": [],
   "source": [
    "instrumental_model.ln_sigma_angs.data = torch.log(torch.tensor(0.084))"
   ]
  },
  {
   "cell_type": "code",
   "execution_count": 14,
   "id": "365a9922",
   "metadata": {},
   "outputs": [],
   "source": [
    "detector_flux = instrumental_model.forward(flux_at_telescope)"
   ]
  },
  {
   "cell_type": "markdown",
   "id": "1a2564bb",
   "metadata": {},
   "source": [
    "We finally have a complete forward model in 5 steps, resulting in our **tunable** prediction for what a data spectrum should look like given all known physical properties."
   ]
  },
  {
   "cell_type": "code",
   "execution_count": 15,
   "id": "ef2db214",
   "metadata": {},
   "outputs": [
    {
     "data": {
      "image/png": "[encoded data removed]",
      "text/plain": [
       "<Figure size 576x360 with 1 Axes>"
      ]
     },
     "metadata": {
      "image/png": {
       "height": 325,
       "width": 513
      },
      "needs_background": "light"
     },
     "output_type": "display_data"
    }
   ],
   "source": [
    "plt.figure(figsize=(8, 5))\n",
    "plt.step(wavelength_grid, flux_at_telescope.detach().cpu().numpy(), \n",
    "         label='Flux at telescope', color='#c0392b')\n",
    "plt.step(data.wavelength, detector_flux.detach().cpu().numpy(), \n",
    "         label='Instrument smoothed and resampled', color='k', lw=2)\n",
    "\n",
    "plt.xlabel('$\\lambda (\\AA)$', fontsize=12);plt.ylabel('Signal strength')\n",
    "plt.xlim(11_025, 11_032); plt.ylim(0, 1.0)\n",
    "plt.legend(loc='best', ncol=2);"
   ]
  },
  {
   "cell_type": "markdown",
   "id": "ad139abd",
   "metadata": {},
   "source": [
    "Phew! We have completed all **five steps** to create a forward model for astronomical spectra.  You can see that the instrument-resampled model has much coarser sampling than the underlying input model.\n",
    "\n",
    "### Next stage: Data-model comparison...\n",
    "The next stage is to compare this model to real data.  The line properties can then be tuned *en masse* to fit the data spectrum-- awesome!"
   ]
  }
 ],
 "metadata": {
  "kernelspec": {
   "display_name": "Python 3 (ipykernel)",
   "language": "python",
   "name": "python3"
  },
  "language_info": {
   "codemirror_mode": {
    "name": "ipython",
    "version": 3
   },
   "file_extension": ".py",
   "mimetype": "text/x-python",
   "name": "python",
   "nbconvert_exporter": "python",
   "pygments_lexer": "ipython3",
   "version": "3.9.13"
  }
 },
 "nbformat": 4,
 "nbformat_minor": 5
}
