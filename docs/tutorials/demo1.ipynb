{
 "cells": [
  {
   "cell_type": "markdown",
   "id": "0aca5d70",
   "metadata": {},
   "source": [
    "# Step 1: Clone a PHOENIX stellar model spectrum\n",
    "\n",
    "Here we demo the first step of `blasé`, cloning a precomputed synthetic spectrum with a product-of-Voigt profiles approach."
   ]
  },
  {
   "cell_type": "code",
   "execution_count": null,
   "id": "f36a48bb",
   "metadata": {},
   "outputs": [],
   "source": [
    "import torch\n",
    "from blase.emulator import SparseLinearEmulator\n",
    "from gollum.phoenix import PHOENIXSpectrum\n",
    "%matplotlib inline\n",
    "%config InlineBackend.figure_format='retina'"
   ]
  },
  {
   "cell_type": "markdown",
   "id": "08f0fa0e",
   "metadata": {},
   "source": [
    "`blasé` is much faster if you happen to have an NVIDIA® GPU.  Most consumer laptops don't have this hardware, but `cpu` codes will still work (just slower)!"
   ]
  },
  {
   "cell_type": "code",
   "execution_count": null,
   "id": "5500840f",
   "metadata": {},
   "outputs": [],
   "source": [
    "if torch.cuda.is_available():\n",
    "    device = \"cuda\"\n",
    "else:\n",
    "    device = \"cpu\"\n",
    "\n",
    "device = \"cpu\""
   ]
  },
  {
   "cell_type": "markdown",
   "id": "26135348",
   "metadata": {},
   "source": [
    "### Set the wavelength limits\n",
    "\n",
    "We will target a relatively narrow chunk of spectrum: $11000 - 11180$ Å.  We use a $60$ Å buffer to deal with edge effects."
   ]
  },
  {
   "cell_type": "code",
   "execution_count": null,
   "id": "df74db25",
   "metadata": {},
   "outputs": [],
   "source": [
    "wl_lo = 11_000-60\n",
    "wl_hi = 11_180+60"
   ]
  },
  {
   "cell_type": "markdown",
   "id": "b57cc870",
   "metadata": {},
   "source": [
    "## Read in a precomputed synthetic stellar spectrum"
   ]
  },
  {
   "cell_type": "markdown",
   "id": "aa420e11",
   "metadata": {},
   "source": [
    "The [gollum](http://gollum-astro.readthedocs.io) precomputed synthetic spectral model interface makes this step pretty straightforward.  You don't even need to have the file locally-- gollum can fetch it for you."
   ]
  },
  {
   "cell_type": "code",
   "execution_count": null,
   "id": "d03705dd",
   "metadata": {},
   "outputs": [],
   "source": [
    "stellar_spectrum = PHOENIXSpectrum(teff=4700, logg=4.5, \n",
    "                                   wl_lo=wl_lo, wl_hi=wl_hi, download=True)"
   ]
  },
  {
   "cell_type": "markdown",
   "id": "58fbd2d0",
   "metadata": {},
   "source": [
    "The pristine PHOENIX spectrum needs to be flattened to facilitate line finding:  We first divide out the black body and then divide by a $5^{th}$ order polynomial."
   ]
  },
  {
   "cell_type": "code",
   "execution_count": null,
   "id": "177e0e1e",
   "metadata": {},
   "outputs": [],
   "source": [
    "stellar_spectrum = stellar_spectrum.divide_by_blackbody()\n",
    "stellar_spectrum = stellar_spectrum.normalize()\n",
    "continuum_fit = stellar_spectrum.fit_continuum(polyorder=5)\n",
    "stellar_spectrum = stellar_spectrum.divide(continuum_fit, handle_meta=\"ff\")"
   ]
  },
  {
   "cell_type": "markdown",
   "id": "4152731f",
   "metadata": {},
   "source": [
    "## Clone the stellar model\n",
    "\n",
    "We make an emulator for the spectrum by cloning all of the spectral lines above some prominence threshold:"
   ]
  },
  {
   "cell_type": "code",
   "execution_count": null,
   "id": "d99b5da9",
   "metadata": {},
   "outputs": [],
   "source": [
    "%%capture\n",
    "stellar_emulator = SparseLinearEmulator(stellar_spectrum.wavelength.value, \n",
    "                             stellar_spectrum.flux.value, \n",
    "                             wing_cut_pixels=6000, prominence=0.01, device=device)"
   ]
  },
  {
   "cell_type": "markdown",
   "id": "68baa471",
   "metadata": {},
   "source": [
    "The emulator found hundreds of spectral lines through a [heuristic](https://docs.scipy.org/doc/scipy/reference/generated/scipy.signal.find_peaks.html) process, and then instantiates a [Voigt profile](https://en.wikipedia.org/wiki/Voigt_profile) there."
   ]
  },
  {
   "cell_type": "code",
   "execution_count": null,
   "id": "eacb2b82",
   "metadata": {},
   "outputs": [],
   "source": [
    "len(stellar_emulator.lam_centers)"
   ]
  },
  {
   "cell_type": "markdown",
   "id": "c732833d",
   "metadata": {},
   "source": [
    "The `forward` pass of the model makes a spectrum that we can examine:"
   ]
  },
  {
   "cell_type": "code",
   "execution_count": null,
   "id": "c6cdf0b5",
   "metadata": {},
   "outputs": [],
   "source": [
    "with torch.no_grad():\n",
    "    stellar_pre = stellar_emulator.forward().cpu().numpy()"
   ]
  },
  {
   "cell_type": "markdown",
   "id": "ed8edf63",
   "metadata": {},
   "source": [
    "The initial guess should look lousy:"
   ]
  },
  {
   "cell_type": "code",
   "execution_count": null,
   "id": "1ca4da57",
   "metadata": {},
   "outputs": [],
   "source": [
    "ax = stellar_spectrum.plot(ylo=0.5, yhi=1.05, label='Native PHOENIX model')\n",
    "ax.step(stellar_spectrum.wavelength.value, stellar_pre, label='Initial guess')\n",
    "ax.set_xlim(11_060, 11_120)\n",
    "ax.legend();"
   ]
  },
  {
   "cell_type": "markdown",
   "id": "2a0328be",
   "metadata": {},
   "source": [
    "The initialization is terrible! It's just a coarse guess that there is a line there with an approximate width and depth.  In the next step we will fine tune that guess."
   ]
  },
  {
   "cell_type": "markdown",
   "id": "4e6fbded",
   "metadata": {},
   "source": [
    "### Fine-tune the model to clone the spectrum to near pixel-perfect\n",
    "\n",
    "Here we adjust all of the properties of the lines simultaneously with the [backpropagation](https://en.wikipedia.org/wiki/Backpropagation) algorithm built into PyTorch.  Here we choose the bare minimum of 20 epochs with an aggressive learning rate (LR) of 0.05.  You should be able to get a better fit by running it for say 300 epochs, with a learning rate (LR) of 0.01, for example.  But it would take much longer."
   ]
  },
  {
   "cell_type": "code",
   "execution_count": null,
   "id": "468c14f4",
   "metadata": {},
   "outputs": [],
   "source": [
    "stellar_emulator.optimize(epochs=20, LR=0.05)"
   ]
  },
  {
   "cell_type": "markdown",
   "id": "1b2215f3",
   "metadata": {},
   "source": [
    "Now we can examine the spectrum, post fine-tuning.  It should provide a *much* better fit:"
   ]
  },
  {
   "cell_type": "code",
   "execution_count": null,
   "id": "67f35e89",
   "metadata": {},
   "outputs": [],
   "source": [
    "with torch.no_grad():\n",
    "    stellar_post = stellar_emulator.forward().cpu().numpy()"
   ]
  },
  {
   "cell_type": "code",
   "execution_count": null,
   "id": "9c68f34a",
   "metadata": {},
   "outputs": [],
   "source": [
    "ax = stellar_spectrum.plot(ylo=0.5, yhi=1.05, label='Native PHOENIX model')\n",
    "ax.step(stellar_spectrum.wavelength.value, stellar_post, label='Fine-Tuned clone with blasé')\n",
    "ax.set_xlim(11_060, 11_120)\n",
    "ax.legend();"
   ]
  },
  {
   "cell_type": "markdown",
   "id": "3b76bdcc",
   "metadata": {},
   "source": [
    "Voilá! It's not perfect, but it's much better than before.  And recall that this is the clone at *native* resolution and pixel sampling.  Most models will ultimately be convolved with an instrumental kernel that will wash away most of these imperfections."
   ]
  },
  {
   "cell_type": "markdown",
   "id": "06da2979",
   "metadata": {},
   "source": [
    "## Saving fine-tuned parameters as a \"lookup table\"\n",
    "\n",
    "The collection of values for the wavelength centers, amplitudes, Gaussian widths, Lorentzian widths, and other parameters represents a reproducible snapshot of the model state:\n",
    "\n",
    "> If you hand me the \"lookup table\" of these parameters, I can recreate the entire cloned forward model.  "
   ]
  },
  {
   "cell_type": "code",
   "execution_count": null,
   "id": "3daf71f6",
   "metadata": {},
   "outputs": [],
   "source": [
    "torch.save(stellar_emulator.state_dict(), \"phoenix_clone_T4700g4p5_prom0p01_11000Ang.pt\")"
   ]
  }
 ],
 "metadata": {
  "kernelspec": {
   "display_name": "Python 3 (ipykernel)",
   "language": "python",
   "name": "python3"
  },
  "language_info": {
   "codemirror_mode": {
    "name": "ipython",
    "version": 3
   },
   "file_extension": ".py",
   "mimetype": "text/x-python",
   "name": "python",
   "nbconvert_exporter": "python",
   "pygments_lexer": "ipython3",
   "version": "3.11.6"
  }
 },
 "nbformat": 4,
 "nbformat_minor": 5
}
