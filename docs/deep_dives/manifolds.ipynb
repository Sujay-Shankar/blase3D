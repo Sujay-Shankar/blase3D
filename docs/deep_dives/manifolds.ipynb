{
 "cells": [
  {
   "cell_type": "code",
   "execution_count": null,
   "metadata": {},
   "outputs": [],
   "source": [
    "import altair as alt\n",
    "import numpy as np\n",
    "from os import listdir\n",
    "import pandas as pd\n",
    "import torch\n",
    "\n",
    "from blase.emulator import SparseLinearEmulator as SLE\n",
    "from blase.optimizer import default_clean\n",
    "from blase.utils import doppler_grid\n",
    "from collections import defaultdict\n",
    "from functools import reduce\n",
    "from gollum.phoenix import PHOENIXSpectrum\n",
    "from re import split\n",
    "from tqdm import tqdm\n",
    "\n",
    "alt.data_transformers.enable('vegafusion')"
   ]
  },
  {
   "cell_type": "code",
   "execution_count": null,
   "metadata": {},
   "outputs": [],
   "source": [
    "path = \"/home/sujay/data/10K_12.5K_clones\"\n",
    "\n",
    "line_stats = defaultdict(list)\n",
    "for state_file in tqdm(listdir(path)):\n",
    "    state_dict = torch.load(f'{path}/{state_file}', map_location='cuda:0')\n",
    "    tokens = split('[TGZ]', state_file[:-3])\n",
    "    line_stats['teff'].append(int(tokens[1]))\n",
    "    line_stats['logg'].append(float(tokens[2]))\n",
    "    line_stats['Z'].append(float(tokens[3]))\n",
    "\n",
    "    line_stats['center'].append(state_dict['pre_line_centers'].cpu().numpy())\n",
    "    line_stats['amp'].append(state_dict['amplitudes'].cpu().numpy())\n",
    "    line_stats['sigma'].append(state_dict['sigma_widths'].cpu().numpy())\n",
    "    line_stats['gamma'].append(state_dict['gamma_widths'].cpu().numpy())"
   ]
  },
  {
   "cell_type": "code",
   "execution_count": null,
   "metadata": {},
   "outputs": [],
   "source": [
    "line_set = reduce(np.union1d, line_stats['center'])\n",
    "df = pd.DataFrame(line_stats).query('Z == 0').explode(['center', 'amp', 'sigma', 'gamma'])\n",
    "df"
   ]
  },
  {
   "cell_type": "code",
   "execution_count": null,
   "metadata": {},
   "outputs": [],
   "source": [
    "line_counts = df.value_counts('center')\n",
    "current_line = line_counts.index[0]"
   ]
  },
  {
   "cell_type": "code",
   "execution_count": null,
   "metadata": {},
   "outputs": [],
   "source": [
    "df_heat = df.query('center == @current_line')\n",
    "x1 = alt.Chart(df_heat).mark_rect().encode(x='teff:O', y='logg:O', color='amp:Q')\\\n",
    "    .properties(width=600, height=400, title=f'Line: {current_line} Angstroms ({len(df_heat)} points)')\n",
    "x2 = alt.Chart(df_heat).mark_rect().encode(x='teff:O', y='logg:O', color='sigma:Q')\\\n",
    "    .properties(width=600, height=400, title=f'Line: {current_line} Angstroms ({len(df_heat)} points)')\n",
    "x3 = alt.Chart(df_heat).mark_rect().encode(x='teff:O', y='logg:O', color='gamma:Q')\\\n",
    "    .properties(width=600, height=400, title=f'Line: {current_line} Angstroms ({len(df_heat)} points)')\n",
    "\n",
    "((x1 | x2 | x3).resolve_scale(color='independent'))"
   ]
  },
  {
   "cell_type": "code",
   "execution_count": null,
   "metadata": {},
   "outputs": [],
   "source": [
    "df_manifold = pd.read_parquet('../../experiments/09_surface_fitting/surface_visualization_grid_interp.parquet.gz')\n",
    "df_manifold\n",
    "current_line = 8185.51"
   ]
  },
  {
   "cell_type": "code",
   "execution_count": null,
   "metadata": {},
   "outputs": [],
   "source": [
    "def show_manifolds(data):\n",
    "    x1 = alt.Chart(data).mark_rect().encode(x='teff:O', y='logg:O', color='amp:Q')\\\n",
    "        .properties(width=1000, height=600, title=f'Line: {current_line} Angstroms ({len(data)} points)')\n",
    "    x2 = alt.Chart(data).mark_rect().encode(x='teff:O', y='logg:O', color='sigma:Q')\\\n",
    "        .properties(width=1000, height=600, title=f'Line: {current_line} Angstroms ({len(data)} points)')\n",
    "    x3 = alt.Chart(data).mark_rect().encode(x='teff:O', y='logg:O', color='gamma:Q')\\\n",
    "        .properties(width=1000, height=600, title=f'Line: {current_line} Angstroms ({len(data)} points)')\n",
    "\n",
    "    return ((x1 | x2 | x3).resolve_scale(color='independent'))"
   ]
  },
  {
   "cell_type": "code",
   "execution_count": null,
   "metadata": {},
   "outputs": [],
   "source": [
    "show_manifolds(df_manifold)"
   ]
  }
 ],
 "metadata": {
  "kernelspec": {
   "display_name": "blase",
   "language": "python",
   "name": "python3"
  },
  "language_info": {
   "codemirror_mode": {
    "name": "ipython",
    "version": 3
   },
   "file_extension": ".py",
   "mimetype": "text/x-python",
   "name": "python",
   "nbconvert_exporter": "python",
   "pygments_lexer": "ipython3",
   "version": "3.11.6"
  }
 },
 "nbformat": 4,
 "nbformat_minor": 2
}
