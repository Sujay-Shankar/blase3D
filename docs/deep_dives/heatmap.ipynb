{
 "cells": [
  {
   "cell_type": "code",
   "execution_count": null,
   "metadata": {},
   "outputs": [],
   "source": [
    "import altair as alt\n",
    "import numpy as np\n",
    "from os import listdir\n",
    "import pandas as pd\n",
    "import torch\n",
    "\n",
    "from collections import defaultdict\n",
    "from functools import reduce\n",
    "from re import split"
   ]
  },
  {
   "cell_type": "code",
   "execution_count": null,
   "metadata": {},
   "outputs": [],
   "source": [
    "line_stats = defaultdict(list)\n",
    "for state_file in listdir('emulator_states'):\n",
    "    state_dict = torch.load(f'emulator_states/{state_file}')\n",
    "    tokens = split('[TGZ]', state_file[:-3])\n",
    "    line_stats['teff'].append(int(tokens[1]))\n",
    "    line_stats['logg'].append(float(tokens[2]))\n",
    "    line_stats['Z'].append(float(tokens[3]))\n",
    "\n",
    "    line_stats['center'].append(state_dict['pre_line_centers'].cpu().numpy())\n",
    "    line_stats['shift_center'].append(state_dict['lam_centers'].cpu().numpy())\n",
    "    line_stats['amp'].append(-state_dict['amplitudes'].cpu().numpy())\n",
    "    line_stats['sigma'].append(state_dict['sigma_widths'].cpu().numpy())\n",
    "    line_stats['gamma'].append(state_dict['gamma_widths'].cpu().numpy())"
   ]
  },
  {
   "cell_type": "code",
   "execution_count": null,
   "metadata": {},
   "outputs": [],
   "source": [
    "line_set = reduce(np.union1d, line_stats['center'])\n",
    "df = pd.DataFrame(line_stats)\n",
    "df"
   ]
  },
  {
   "cell_type": "code",
   "execution_count": null,
   "metadata": {},
   "outputs": [],
   "source": [
    "df = df.explode(['center', 'amp', 'sigma', 'gamma', 'shift_center'])\n",
    "df"
   ]
  },
  {
   "cell_type": "code",
   "execution_count": null,
   "metadata": {},
   "outputs": [],
   "source": [
    "df_solar = df.query('Z == 0')\n",
    "df_solar['jitter'] = df_solar.center - df_solar.shift_center\n",
    "df_solar"
   ]
  },
  {
   "cell_type": "code",
   "execution_count": null,
   "metadata": {},
   "outputs": [],
   "source": [
    "# [2, 5, 7, 11, 15, 18, 23, 33, 35, 39, 40]\n",
    "# [17, 20, 24, 31]\n",
    "\n",
    "#most_points = np.argmax([len(df_solar.query('center == @line')) for line in line_set])\n",
    "#print(most_points)\n",
    "counts = df_solar.value_counts('center')"
   ]
  },
  {
   "cell_type": "code",
   "execution_count": null,
   "metadata": {},
   "outputs": [],
   "source": [
    "current_line = counts.index[78]\n",
    "df_heat = df_solar.query('center == @current_line')\n",
    "x1 = alt.Chart(df_heat).mark_rect().encode(x='teff:O', y='logg:O', color='amp:Q')\\\n",
    "    .properties(width=400, height=400, title=f'Line: {current_line} Angstroms ({len(df_heat)} points)')\n",
    "x2 = alt.Chart(df_heat).mark_rect().encode(x='teff:O', y='logg:O', color='sigma:Q')\\\n",
    "    .properties(width=400, height=400, title=f'Line: {current_line} Angstroms ({len(df_heat)} points)')\n",
    "x3 = alt.Chart(df_heat).mark_rect().encode(x='teff:O', y='logg:O', color='gamma:Q')\\\n",
    "    .properties(width=400, height=400, title=f'Line: {current_line} Angstroms ({len(df_heat)} points)')\n",
    "x4 = alt.Chart(df_heat).mark_rect().encode(x='teff:O', y='logg:O', color='jitter:Q')\\\n",
    "    .properties(width=400, height=400, title=f'Line: {current_line} Angstroms ({len(df_heat)} points)')\n",
    "((x1 | x2).resolve_scale(color='independent') & (x3 | x4).resolve_scale(color='independent'))"
   ]
  },
  {
   "cell_type": "code",
   "execution_count": null,
   "metadata": {},
   "outputs": [],
   "source": [
    "df_n_lines = df_solar.groupby(['teff', 'logg']).size().reset_index(name='n_lines')\n",
    "alt.Chart(df_n_lines).mark_rect().encode(x='teff:O', y='logg:O', color='n_lines:Q')\\\n",
    "    .properties(width=400, height=400, title=f'Number of lines ({len(df_solar)} points)')"
   ]
  }
 ],
 "metadata": {
  "kernelspec": {
   "display_name": "blase",
   "language": "python",
   "name": "python3"
  },
  "language_info": {
   "codemirror_mode": {
    "name": "ipython",
    "version": 3
   },
   "file_extension": ".py",
   "mimetype": "text/x-python",
   "name": "python",
   "nbconvert_exporter": "python",
   "pygments_lexer": "ipython3",
   "version": "3.11.4"
  },
  "orig_nbformat": 4
 },
 "nbformat": 4,
 "nbformat_minor": 2
}
