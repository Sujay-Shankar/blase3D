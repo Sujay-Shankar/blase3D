{
 "cells": [
  {
   "cell_type": "markdown",
   "id": "0aca5d70",
   "metadata": {},
   "source": [
    "# Blasé 3D [EXPERIMENTAL]\n",
    "\n",
    "Here we experiment with a highly requested feature, which is cloning spectra across all nodes in a precomputed model grid."
   ]
  },
  {
   "cell_type": "code",
   "execution_count": null,
   "id": "f36a48bb",
   "metadata": {},
   "outputs": [],
   "source": [
    "import torch\n",
    "from blase.emulator import SparseLinearEmulator\n",
    "from blase.optimizer import run_emulator\n",
    "from gollum.phoenix import PHOENIXSpectrum, PHOENIXGrid\n",
    "%matplotlib inline\n",
    "%config InlineBackend.figure_format='retina'\n",
    "\n",
    "device = 'cuda' if torch.cuda.is_available() else 'cpu'"
   ]
  },
  {
   "cell_type": "markdown",
   "id": "26135348",
   "metadata": {},
   "source": [
    "### Set the wavelength limits\n",
    "\n",
    "We will target a relatively narrow chunk of spectrum: $11000 - 11180$ Å.  We use a $60$ Å buffer to deal with edge effects."
   ]
  },
  {
   "cell_type": "code",
   "execution_count": null,
   "id": "df74db25",
   "metadata": {},
   "outputs": [],
   "source": [
    "wl_lo = 11_000-60\n",
    "wl_hi = 11_180+60"
   ]
  },
  {
   "cell_type": "markdown",
   "id": "b57cc870",
   "metadata": {},
   "source": [
    "## Read in a precomputed synthetic stellar spectrum"
   ]
  },
  {
   "cell_type": "markdown",
   "id": "aa420e11",
   "metadata": {},
   "source": [
    "The [gollum](http://gollum-astro.readthedocs.io) precomputed synthetic spectral model interface makes this step pretty straightforward.  You don't even need to have the file locally-- gollum can fetch it for you."
   ]
  },
  {
   "cell_type": "code",
   "execution_count": null,
   "id": "d03705dd",
   "metadata": {},
   "outputs": [],
   "source": [
    "stellar_spectrum = PHOENIXSpectrum(teff=4700, logg=4.5, wl_lo=wl_lo, wl_hi=wl_hi, download=True)"
   ]
  },
  {
   "cell_type": "code",
   "execution_count": null,
   "id": "3349c8d5",
   "metadata": {},
   "outputs": [],
   "source": [
    "mini_grid = PHOENIXGrid(teff_range=(2300, 7000), logg_range=(1, 4), Z_range=(-0.5, 1.5), wl_lo=wl_lo, wl_hi=wl_hi, path=\"~/libaries/raw/PHOENIX\")"
   ]
  },
  {
   "cell_type": "code",
   "execution_count": null,
   "id": "67467399",
   "metadata": {},
   "outputs": [],
   "source": [
    "output_params = [run_emulator(spec, device=device) for spec in mini_grid]"
   ]
  },
  {
   "cell_type": "markdown",
   "id": "58fbd2d0",
   "metadata": {},
   "source": [
    "The pristine PHOENIX spectra needs to be flattened to facilitate line finding:  We first divide out the black body and then divide by a $5^{th}$ order polynomial."
   ]
  },
  {
   "cell_type": "code",
   "execution_count": null,
   "id": "0da8d3d3",
   "metadata": {},
   "outputs": [],
   "source": [
    "def preprocess(stellar_spectrum):\n",
    "    stellar_spectrum = stellar_spectrum.divide_by_blackbody().normalize()\n",
    "    continuum_fit = stellar_spectrum.fit_continuum(polyorder=5)\n",
    "    return stellar_spectrum.divide(continuum_fit, handle_meta=\"ff\")"
   ]
  },
  {
   "cell_type": "code",
   "execution_count": null,
   "id": "177e0e1e",
   "metadata": {},
   "outputs": [],
   "source": [
    "clean_grid = (preprocess(mini_grid[i]) for i in range(mini_grid.n_spectra))"
   ]
  },
  {
   "cell_type": "code",
   "execution_count": null,
   "id": "bfff92d2",
   "metadata": {},
   "outputs": [],
   "source": [
    "emulators = [SparseLinearEmulator(cleanspec.wavelength.value, cleanspec.flux.value, wing_cut_pixels=6000, prominence=0.005) for cleanspec in clean_grid]\n",
    "for emulator in emulators:\n",
    "    emulator.to(device)\n",
    "    emulator.optimize(epochs=200, LR=0.03)\n",
    "    torch.cuda.empty_cache()"
   ]
  },
  {
   "cell_type": "markdown",
   "id": "4152731f",
   "metadata": {},
   "source": [
    "## Clone the stellar model\n",
    "\n",
    "We make an emulator for the spectrum by cloning all of the spectral lines above some prominence threshold:"
   ]
  },
  {
   "cell_type": "markdown",
   "id": "68baa471",
   "metadata": {},
   "source": [
    "The emulator found hundreds of spectral lines through a [heuristic](https://docs.scipy.org/doc/scipy/reference/generated/scipy.signal.find_peaks.html) process, and then instantiates a [Voigt profile](https://en.wikipedia.org/wiki/Voigt_profile) there."
   ]
  },
  {
   "cell_type": "code",
   "execution_count": null,
   "id": "eacb2b82",
   "metadata": {},
   "outputs": [],
   "source": [
    "from functools import reduce\n",
    "import numpy as np\n",
    "\n",
    "line_lists = [emulator.lam_centers.detach().to('cpu').numpy().round(2) for emulator in emulators]\n",
    "common_lines = reduce(np.intersect1d, line_lists)"
   ]
  },
  {
   "cell_type": "markdown",
   "id": "c732833d",
   "metadata": {},
   "source": [
    "The `forward` pass of the model makes a spectrum that we can examine:"
   ]
  },
  {
   "cell_type": "code",
   "execution_count": null,
   "id": "c6cdf0b5",
   "metadata": {},
   "outputs": [],
   "source": [
    "with torch.no_grad():\n",
    "    stellar_pre = emulators[0].forward().to('cpu').numpy()"
   ]
  },
  {
   "cell_type": "code",
   "execution_count": null,
   "id": "b1f7d303",
   "metadata": {},
   "outputs": [],
   "source": [
    "stellar_pre.max()"
   ]
  },
  {
   "cell_type": "markdown",
   "id": "ed8edf63",
   "metadata": {},
   "source": [
    "The initial guess should look lousy:"
   ]
  },
  {
   "cell_type": "code",
   "execution_count": null,
   "id": "1ca4da57",
   "metadata": {},
   "outputs": [],
   "source": [
    "import matplotlib.pyplot as plt\n",
    "plt.style.use('dark_background')\n",
    "ax = mini_grid[0].plot(ylo=0, yhi=1.05, label='Native PHOENIX model', color='k')\n",
    "ax.step(stellar_spectrum.wavelength.value, stellar_pre, label='Initial guess', zorder=2)\n",
    "for i in range(1, 4):\n",
    "    ax.step(mini_grid[i].wavelength.value, emulators[i].forward().detach().to('cpu').numpy(), label=f'Iteration {i}', zorder=2, alpha=0.3)\n",
    "ax.vlines(common_lines, 0.5, 1.05, color='white', alpha=0.4)\n",
    "ax.set_xlim(11100, 11125)\n",
    "ax.legend();"
   ]
  },
  {
   "cell_type": "code",
   "execution_count": null,
   "id": "46b34c8f",
   "metadata": {},
   "outputs": [],
   "source": [
    "%matplotlib inline\n",
    "points = np.array(mini_grid.grid_points)[:,:2]\n",
    "plt.scatter(points[:,0], points[:,1], c=amps, cmap='viridis')\n",
    "plt.grid(False)"
   ]
  },
  {
   "cell_type": "code",
   "execution_count": null,
   "id": "245eea7f",
   "metadata": {},
   "outputs": [],
   "source": [
    "#emulators[0].amplitudes[emulators[0].lam_centers.detach().to('cpu').numpy() > 45000, emulators[0].lam_centers.detach().to('cpu').numpy() < 46000]\n",
    "amps = [em.sigma_widths[4].detach().cpu().numpy() for em in emulators]\n",
    "plt.plot(amps)"
   ]
  },
  {
   "cell_type": "markdown",
   "id": "2a0328be",
   "metadata": {},
   "source": [
    "The initialization is terrible! It's just a coarse guess that there is a line there with an approximate width and depth.  In the next step we will fine tune that guess."
   ]
  },
  {
   "cell_type": "markdown",
   "id": "4e6fbded",
   "metadata": {},
   "source": [
    "### Fine-tune the model to clone the spectrum to near pixel-perfect\n",
    "\n",
    "Here we adjust all of the properties of the lines simultaneously with the [backpropagation](https://en.wikipedia.org/wiki/Backpropagation) algorithm built into PyTorch.  Here we choose the bare minimum of 20 epochs with an aggressive learning rate (LR) of 0.05.  You should be able to get a better fit by running it for say 300 epochs, with a learning rate (LR) of 0.01, for example.  But it would take much longer."
   ]
  },
  {
   "cell_type": "code",
   "execution_count": null,
   "id": "468c14f4",
   "metadata": {},
   "outputs": [],
   "source": [
    "stellar_emulator.optimize(epochs=100, LR=0.05)"
   ]
  },
  {
   "cell_type": "markdown",
   "id": "1b2215f3",
   "metadata": {},
   "source": [
    "Now we can examine the spectrum, post fine-tuning.  It should provide a *much* better fit:"
   ]
  },
  {
   "cell_type": "code",
   "execution_count": null,
   "id": "67f35e89",
   "metadata": {},
   "outputs": [],
   "source": [
    "with torch.no_grad():\n",
    "    stellar_post = stellar_emulator.forward().cpu().numpy()"
   ]
  },
  {
   "cell_type": "code",
   "execution_count": null,
   "id": "9c68f34a",
   "metadata": {},
   "outputs": [],
   "source": [
    "ax = mini_grid[0].plot(ylo=0.5, yhi=1.05, label='Native PHOENIX model')\n",
    "ax.step(stellar_spectrum.wavelength.value, stellar_post, label='Fine-Tuned clone with blasé')\n",
    "ax.set_xlim(11_060, 11_120)\n",
    "ax.legend();"
   ]
  },
  {
   "cell_type": "markdown",
   "id": "3b76bdcc",
   "metadata": {},
   "source": [
    "Voilá! It's not perfect, but it's much better than before.  And recall that this is the clone at *native* resolution and pixel sampling.  Most models will ultimately be convolved with an instrumental kernel that will wash away most of these imperfections."
   ]
  },
  {
   "cell_type": "markdown",
   "id": "06da2979",
   "metadata": {},
   "source": [
    "## Saving fine-tuned parameters as a \"lookup table\"\n",
    "\n",
    "The collection of values for the wavelength centers, amplitudes, Gaussian widths, Lorentzian widths, and other parameters represents a reproducible snapshot of the model state:\n",
    "\n",
    "> If you hand me the \"lookup table\" of these parameters, I can recreate the entire cloned forward model.  "
   ]
  },
  {
   "cell_type": "code",
   "execution_count": null,
   "id": "3daf71f6",
   "metadata": {},
   "outputs": [],
   "source": [
    "torch.save(stellar_emulator.state_dict(), \"phoenix_clone_T4700g4p5_prom0p01_11000Ang.pt\")"
   ]
  }
 ],
 "metadata": {
  "kernelspec": {
   "display_name": "blase",
   "language": "python",
   "name": "python3"
  },
  "language_info": {
   "codemirror_mode": {
    "name": "ipython",
    "version": 3
   },
   "file_extension": ".py",
   "mimetype": "text/x-python",
   "name": "python",
   "nbconvert_exporter": "python",
   "pygments_lexer": "ipython3",
   "version": "3.11.4"
  }
 },
 "nbformat": 4,
 "nbformat_minor": 5
}
