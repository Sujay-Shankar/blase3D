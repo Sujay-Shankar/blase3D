{
 "cells": [
  {
   "cell_type": "code",
   "execution_count": null,
   "metadata": {},
   "outputs": [],
   "source": [
    "import altair as alt\n",
    "import numpy as np\n",
    "import pandas as pd\n",
    "import torch\n",
    "\n",
    "from collections import defaultdict\n",
    "from pathlib import Path\n",
    "from re import split\n",
    "from tqdm import tqdm"
   ]
  },
  {
   "cell_type": "markdown",
   "metadata": {},
   "source": [
    "# [1] **Line Count Heatmap**"
   ]
  },
  {
   "cell_type": "code",
   "execution_count": null,
   "metadata": {},
   "outputs": [],
   "source": [
    "line_stats = defaultdict(list)\n",
    "for file in tqdm(Path('../../experiments/08_blase3D_HPC_test/emulator_states').glob('*0.0.pt'), total=657):\n",
    "    state_dict = torch.load(file, 'cuda')\n",
    "    tokens = split('[TGZ]', file.stem)\n",
    "    line_stats['teff'].append(int(tokens[1]))\n",
    "    line_stats['logg'].append(float(tokens[2]))\n",
    "    line_stats['Z'].append(float(tokens[3]))\n",
    "    line_stats['center'].append(state_dict['pre_line_centers'].cpu().numpy())\n",
    "    line_stats['shift_center'].append(state_dict['lam_centers'].cpu().numpy())\n",
    "    line_stats['amp'].append(state_dict['amplitudes'].cpu().numpy())\n",
    "    line_stats['sigma'].append(state_dict['sigma_widths'].cpu().numpy())\n",
    "    line_stats['gamma'].append(state_dict['gamma_widths'].cpu().numpy())\n",
    "df = pd.DataFrame(line_stats).explode(['center', 'amp', 'sigma', 'gamma', 'shift_center'])\n",
    "df['jitter'] = df.shift_center - df.center"
   ]
  },
  {
   "cell_type": "code",
   "execution_count": null,
   "metadata": {},
   "outputs": [],
   "source": [
    "alt.Chart(df.groupby(['teff', 'logg']).size().reset_index(name='n_lines')).mark_rect()\\\n",
    "    .encode(x=alt.X('teff:O', title='Effective Temperature [K]'), y=alt.Y('logg:O', title='Surface Gravity'), color=alt.Color('n_lines:Q', title='Line Count', scale=alt.Scale(type='log')))\\\n",
    "    .properties(width=1000, height=400)\\\n",
    "    .configure_axis(labelFontSize=15, titleFontSize=24)\\\n",
    "    .configure_legend(labelFontSize=15, titleFontSize=15)"
   ]
  },
  {
   "cell_type": "markdown",
   "metadata": {},
   "source": [
    "# [2] **PHOENIX Subset Discrete Manifold**"
   ]
  },
  {
   "cell_type": "code",
   "execution_count": null,
   "metadata": {},
   "outputs": [],
   "source": [
    "first_line = df.value_counts('center').index[1]\n",
    "alt.Chart(df.query('center == @first_line')).mark_rect()\\\n",
    "    .encode(x=alt.X('teff:O', title='Effective Temperature [K]'), y=alt.Y('logg:O', title='Surface Gravity'), color=alt.Color(f'amp:Q', title='Log-Amplitude'))\\\n",
    "    .properties(width=1000, height=400, title=f'Spectral Line at {first_line} Å')\\\n",
    "    .configure_axis(labelFontSize=15, titleFontSize=24)\\\n",
    "    .configure_legend(labelFontSize=15, titleFontSize=15)\\\n",
    "    .configure_title(fontSize=25)"
   ]
  },
  {
   "cell_type": "code",
   "execution_count": null,
   "metadata": {},
   "outputs": [],
   "source": [
    "np.where(df.center.unique() == 11617.66)\n",
    "df.center.unique()[10051]"
   ]
  }
 ],
 "metadata": {
  "kernelspec": {
   "display_name": "gollum",
   "language": "python",
   "name": "python3"
  },
  "language_info": {
   "codemirror_mode": {
    "name": "ipython",
    "version": 3
   },
   "file_extension": ".py",
   "mimetype": "text/x-python",
   "name": "python",
   "nbconvert_exporter": "python",
   "pygments_lexer": "ipython3",
   "version": "3.12.1"
  }
 },
 "nbformat": 4,
 "nbformat_minor": 2
}
