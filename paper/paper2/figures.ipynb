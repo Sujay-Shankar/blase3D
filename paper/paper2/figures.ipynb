{
 "cells": [
  {
   "cell_type": "code",
   "execution_count": 1,
   "metadata": {},
   "outputs": [
    {
     "name": "stdout",
     "output_type": "stream",
     "text": [
      "PyTorch 2.2.0 active\n"
     ]
    },
    {
     "data": {
      "text/plain": [
       "DataTransformerRegistry.enable('vegafusion')"
      ]
     },
     "execution_count": 1,
     "metadata": {},
     "output_type": "execute_result"
    }
   ],
   "source": [
    "import altair as alt\n",
    "import numpy as np\n",
    "import pandas as pd\n",
    "import torch\n",
    "\n",
    "from blase.optimizer import default_clean\n",
    "from collections import defaultdict\n",
    "from gollum.phoenix import PHOENIXSpectrum\n",
    "from pathlib import Path\n",
    "from re import split\n",
    "from tqdm import tqdm\n",
    "\n",
    "alt.data_transformers.enable('vegafusion')"
   ]
  },
  {
   "cell_type": "markdown",
   "metadata": {},
   "source": [
    "# [2] **Line Count Heatmap**"
   ]
  },
  {
   "cell_type": "code",
   "execution_count": 2,
   "metadata": {},
   "outputs": [
    {
     "name": "stderr",
     "output_type": "stream",
     "text": [
      "100%|██████████| 1314/1314 [00:03<00:00, 367.08it/s]\n"
     ]
    }
   ],
   "source": [
    "line_stats = defaultdict(list)\n",
    "for file in tqdm(Path('../../experiments/08_blase3D_HPC_test/emulator_states').glob('*'), total=1314):\n",
    "    state_dict = torch.load(file, 'cuda')\n",
    "    tokens = split('[TGZ]', file.stem)\n",
    "    line_stats['teff'].append(int(tokens[1]))\n",
    "    line_stats['logg'].append(float(tokens[2]))\n",
    "    line_stats['Z'].append(float(tokens[3]))\n",
    "    line_stats['center'].append(state_dict['pre_line_centers'].cpu().numpy())\n",
    "    line_stats['shift_center'].append(state_dict['lam_centers'].cpu().numpy())\n",
    "    line_stats['amp'].append(state_dict['amplitudes'].cpu().numpy())\n",
    "    line_stats['sigma'].append(state_dict['sigma_widths'].cpu().numpy())\n",
    "    line_stats['gamma'].append(state_dict['gamma_widths'].cpu().numpy())\n",
    "df = pd.DataFrame(line_stats).explode(['center', 'amp', 'sigma', 'gamma', 'shift_center'])\n",
    "df_gp = pd.DataFrame(line_stats)[['teff', 'logg', 'Z']]\n",
    "df['jitter'] = df.shift_center - df.center"
   ]
  },
  {
   "cell_type": "code",
   "execution_count": 23,
   "metadata": {},
   "outputs": [
    {
     "data": {
      "text/html": [
       "<div>\n",
       "<style scoped>\n",
       "    .dataframe tbody tr th:only-of-type {\n",
       "        vertical-align: middle;\n",
       "    }\n",
       "\n",
       "    .dataframe tbody tr th {\n",
       "        vertical-align: top;\n",
       "    }\n",
       "\n",
       "    .dataframe thead th {\n",
       "        text-align: right;\n",
       "    }\n",
       "</style>\n",
       "<table border=\"1\" class=\"dataframe\">\n",
       "  <thead>\n",
       "    <tr style=\"text-align: right;\">\n",
       "      <th></th>\n",
       "      <th>teff</th>\n",
       "      <th>logg</th>\n",
       "      <th>Z</th>\n",
       "      <th>count</th>\n",
       "    </tr>\n",
       "  </thead>\n",
       "  <tbody>\n",
       "    <tr>\n",
       "      <th>5</th>\n",
       "      <td>2300</td>\n",
       "      <td>3.0</td>\n",
       "      <td>0.0</td>\n",
       "      <td>34551</td>\n",
       "    </tr>\n",
       "    <tr>\n",
       "      <th>3</th>\n",
       "      <td>2300</td>\n",
       "      <td>2.5</td>\n",
       "      <td>0.0</td>\n",
       "      <td>34538</td>\n",
       "    </tr>\n",
       "    <tr>\n",
       "      <th>0</th>\n",
       "      <td>2300</td>\n",
       "      <td>2.0</td>\n",
       "      <td>-0.5</td>\n",
       "      <td>34397</td>\n",
       "    </tr>\n",
       "    <tr>\n",
       "      <th>2</th>\n",
       "      <td>2300</td>\n",
       "      <td>2.5</td>\n",
       "      <td>-0.5</td>\n",
       "      <td>34336</td>\n",
       "    </tr>\n",
       "    <tr>\n",
       "      <th>7</th>\n",
       "      <td>2300</td>\n",
       "      <td>3.5</td>\n",
       "      <td>0.0</td>\n",
       "      <td>34091</td>\n",
       "    </tr>\n",
       "    <tr>\n",
       "      <th>...</th>\n",
       "      <td>...</td>\n",
       "      <td>...</td>\n",
       "      <td>...</td>\n",
       "      <td>...</td>\n",
       "    </tr>\n",
       "    <tr>\n",
       "      <th>1276</th>\n",
       "      <td>11600</td>\n",
       "      <td>6.0</td>\n",
       "      <td>-0.5</td>\n",
       "      <td>276</td>\n",
       "    </tr>\n",
       "    <tr>\n",
       "      <th>1292</th>\n",
       "      <td>11800</td>\n",
       "      <td>5.5</td>\n",
       "      <td>-0.5</td>\n",
       "      <td>273</td>\n",
       "    </tr>\n",
       "    <tr>\n",
       "      <th>1294</th>\n",
       "      <td>11800</td>\n",
       "      <td>6.0</td>\n",
       "      <td>-0.5</td>\n",
       "      <td>270</td>\n",
       "    </tr>\n",
       "    <tr>\n",
       "      <th>1310</th>\n",
       "      <td>12000</td>\n",
       "      <td>5.5</td>\n",
       "      <td>-0.5</td>\n",
       "      <td>266</td>\n",
       "    </tr>\n",
       "    <tr>\n",
       "      <th>1312</th>\n",
       "      <td>12000</td>\n",
       "      <td>6.0</td>\n",
       "      <td>-0.5</td>\n",
       "      <td>252</td>\n",
       "    </tr>\n",
       "  </tbody>\n",
       "</table>\n",
       "<p>1314 rows × 4 columns</p>\n",
       "</div>"
      ],
      "text/plain": [
       "       teff  logg    Z  count\n",
       "5      2300   3.0  0.0  34551\n",
       "3      2300   2.5  0.0  34538\n",
       "0      2300   2.0 -0.5  34397\n",
       "2      2300   2.5 -0.5  34336\n",
       "7      2300   3.5  0.0  34091\n",
       "...     ...   ...  ...    ...\n",
       "1276  11600   6.0 -0.5    276\n",
       "1292  11800   5.5 -0.5    273\n",
       "1294  11800   6.0 -0.5    270\n",
       "1310  12000   5.5 -0.5    266\n",
       "1312  12000   6.0 -0.5    252\n",
       "\n",
       "[1314 rows x 4 columns]"
      ]
     },
     "execution_count": 23,
     "metadata": {},
     "output_type": "execute_result"
    }
   ],
   "source": [
    "df.groupby(['teff', 'logg', 'Z']).size().reset_index(name='count').sort_values('count', ascending=False)"
   ]
  },
  {
   "cell_type": "code",
   "execution_count": 16,
   "metadata": {},
   "outputs": [],
   "source": [
    "c1 = alt.Chart(df.query('Z == 0').groupby(['teff', 'logg']).size().reset_index(name='n_lines'), width=1000, height=200, title='[Fe/H] = 0 dex').mark_rect()\\\n",
    "    .encode(x=alt.X('teff:O', title='Effective Temperature [K]', axis=alt.Axis(values=list(np.arange(2400, 12001, 200)))), y=alt.Y('logg:O', title='Surface Gravity'), color=alt.Color('n_lines:Q', title='Count', scale=alt.Scale(type='log')))\n",
    "c2 = alt.Chart(df.query('Z == -0.5').groupby(['teff', 'logg']).size().reset_index(name='n_lines'), width=1000, height=200, title='[Fe/H] = -0.5 dex').mark_rect()\\\n",
    "    .encode(x=alt.X('teff:O', title='Effective Temperature [K]', axis=alt.Axis(values=list(np.arange(2400, 12001, 200)))), y=alt.Y('logg:O', title='Surface Gravity'), color=alt.Color('n_lines:Q', title='Count', scale=alt.Scale(type='log')))   \n",
    "(c1 & c2).configure_title(fontSize=25).configure_axis(labelFontSize=15, titleFontSize=24).configure_legend(labelFontSize=15, titleFontSize=15).save('figure2.png', scale_factor=4.0)"
   ]
  },
  {
   "cell_type": "markdown",
   "metadata": {},
   "source": [
    "# [3, 4] **PHOENIX Subset Discrete Manifold**\n",
    "C I line and He II line"
   ]
  },
  {
   "cell_type": "code",
   "execution_count": 18,
   "metadata": {},
   "outputs": [],
   "source": [
    "target_line = df.value_counts('center').index[1]\n",
    "cs = [alt.Chart(df.query('center == @target_line & Z == 0'), width=1000, height=200, title=f'C I Line at {target_line} Å').mark_rect()\\\n",
    "    .encode(x=alt.X('teff:O', title='Effective Temperature [K]', axis=alt.Axis(values=list(np.arange(2400, 12001, 200)))), \n",
    "            y=alt.Y('logg:O', title='Surface Gravity'), \n",
    "            color=alt.Color(f'{param[0]}:Q', title=param[1])) for param in (('amp', 'Log-Amplitude'), ('sigma', 'Gaussian Width'), ('gamma', 'Lorentzian Width'), ('jitter', 'Line Center Offset'))]\n",
    "alt.vconcat(*cs).resolve_scale(color='independent').configure_axis(labelFontSize=15, titleFontSize=24).configure_axisX(title='Eff').configure_legend(labelFontSize=15, titleFontSize=15).configure_title(fontSize=25).save('figure3.png', scale_factor=4.0)"
   ]
  },
  {
   "cell_type": "code",
   "execution_count": 26,
   "metadata": {},
   "outputs": [],
   "source": [
    "target_line = df.value_counts('center').index[3840]\n",
    "white_bg = alt.Chart(df_gp, width=1000, height=200, title=f'He II Line at {target_line} Å').mark_rect()\\\n",
    "    .encode(x=alt.X('teff:O', title='Effective Temperature [K]', axis=alt.Axis(values=list(np.arange(2400, 12001, 200)))), \n",
    "            y=alt.Y('logg:O', title='Surface Gravity', axis=alt.Axis(values=list(np.arange(2, 6, 0.5)))), \n",
    "            color=alt.value('white'))\n",
    "cs = [white_bg + alt.Chart(df.query('center == @target_line & Z == 0'), width=1000, height=200, title=f'C I Line at {target_line} Å').mark_rect()\\\n",
    "    .encode(x=alt.X('teff:O', title='Effective Temperature [K]', axis=alt.Axis(values=list(np.arange(2400, 12001, 200)))), \n",
    "            y=alt.Y('logg:O', title='Surface Gravity'), \n",
    "            color=alt.Color(f'{param[0]}:Q', title=param[1])) for param in (('amp', 'Log-Amplitude'), ('sigma', 'Gaussian Width'), ('gamma', 'Lorentzian Width'), ('jitter', 'Line Center Offset'))]\n",
    "alt.vconcat(*cs).resolve_scale(color='independent').configure_axis(labelFontSize=15, titleFontSize=24).configure_axisX(title='Eff').configure_legend(labelFontSize=15, titleFontSize=15).configure_title(fontSize=25).save('figure4.png', scale_factor=4.0)"
   ]
  },
  {
   "cell_type": "code",
   "execution_count": 7,
   "metadata": {},
   "outputs": [],
   "source": [
    "target_line = df.value_counts('center').index[3840]\n",
    "white_bg = alt.Chart(df_gp, width=1000, height=400, title=f'He II Line at {target_line} Å').mark_rect()\\\n",
    "    .encode(x=alt.X('teff:O', title='Effective Temperature [K]', axis=alt.Axis(values=list(np.arange(2400, 12001, 200)))), \n",
    "            y=alt.Y('logg:O', title='Surface Gravity', axis=alt.Axis(values=list(np.arange(2, 6, 0.5)))), \n",
    "            color=alt.value('white'))\n",
    "amp_chart = alt.Chart(df.query('center == @target_line')).mark_rect()\\\n",
    "    .encode(x=alt.X('teff:O', title='Effective Temperature [K]', axis=alt.Axis(values=list(np.arange(2400, 12001, 200)))), \n",
    "            y=alt.Y('logg:O', title='Surface Gravity'), \n",
    "            color=alt.Color(f'amp:Q', title='Log-Amplitude'))\n",
    "sigma_chart = alt.Chart(df.query('center == @target_line')).mark_rect()\\\n",
    "    .encode(x=alt.X('teff:O', title='Effective Temperature [K]', axis=alt.Axis(values=list(np.arange(2400, 12001, 200)))), \n",
    "            y=alt.Y('logg:O', title='Surface Gravity'), \n",
    "            color=alt.Color(f'sigma:Q', title='Gaussian Width'))\n",
    "(white_bg + amp_chart & white_bg + sigma_chart) \\\n",
    "    .configure_axis(labelFontSize=15, titleFontSize=24)\\\n",
    "    .configure_legend(labelFontSize=15, titleFontSize=15)\\\n",
    "    .configure_title(fontSize=25).resolve_scale(color='independent').save('images/figure4.png', scale_factor=4.0)"
   ]
  },
  {
   "cell_type": "markdown",
   "metadata": {},
   "source": [
    "# [5] **Spectral Reconstruction Demo**"
   ]
  },
  {
   "cell_type": "code",
   "execution_count": 41,
   "metadata": {},
   "outputs": [],
   "source": [
    "lo = 8561.9\n",
    "hi = 8562.3\n",
    "s1 = default_clean(PHOENIXSpectrum(teff=5700, logg=4.5))\n",
    "s2 = default_clean(PHOENIXSpectrum(teff=5800, logg=4.5))\n",
    "s3 = pd.read_parquet('../../experiments/10_end_to_end/reconstruction_demo.parquet.gz').query('wavelength <= @hi and wavelength >= @lo')\n",
    "s3['Stellar Parameters'] = 'T: 5772 K, log(g): 4.4374, [Fe/H]: 0.0'\n",
    "c1 = alt.Chart(pd.DataFrame({'wavelength': s1.wavelength.value, 'flux': s1.flux.value, 'Stellar Parameters': 'T: 5700 K, log(g): 4.5, [Fe/H]: 0.0'}).query('wavelength <= @hi and wavelength >= @lo'), width=1000, height=400, title='Fe I Line at 8562.09 Å').mark_line(strokeWidth=8).encode(x=alt.X('wavelength', title='Wavelength [Å]'), y=alt.Y('flux', title='Normalized Flux').scale(zero=False), color='Stellar Parameters')\n",
    "c2 = alt.Chart(pd.DataFrame({'wavelength': s2.wavelength.value, 'flux': s2.flux.value, 'Stellar Parameters': 'T: 5800 K, log(g): 4.5, [Fe/H]: 0.0'}).query('wavelength <= @hi and wavelength >= @lo')).mark_line(strokeWidth=8).encode(x='wavelength', y='flux', color=alt.Color('Stellar Parameters', scale=alt.Scale(scheme='inferno')))\n",
    "c3 = alt.Chart(s3).mark_line(strokeWidth=8, strokeDash=[10, 4]).encode(x='wavelength', y='flux', color='Stellar Parameters')\n",
    "(c1 + c2 + c3).configure_axis(labelFontSize=15, titleFontSize=24).configure_title(fontSize=25).configure_legend(labelFontSize=16, titleFontSize=16, padding=5, fillColor='white', orient='bottom-right', labelLimit=0, symbolStrokeWidth=8).save('figure5.png', scale_factor=4.0)"
   ]
  },
  {
   "cell_type": "markdown",
   "metadata": {},
   "source": [
    "# [6] **PHOENIX Generator Reconstruction Performance**"
   ]
  },
  {
   "cell_type": "code",
   "execution_count": 30,
   "metadata": {},
   "outputs": [],
   "source": [
    "df = pd.DataFrame({'N': [2, 5, 10, 25, 50, 75, 100], \n",
    "                   'Pseudo-Parallel': [16.572938919067383, 18.667826108634472, 21.52281529456377, 28.28887704014778, 39.83675589412451, 53.722645066678524, 62.9894732311368],\n",
    "                   'Serial': [29.681056290864944, 80.29932584613562, 156.88104890286922, 381.16286554932594, 747.9954723417759, 1159.3977541476488, 1518.2086955830455]})\n",
    "df['R'] = df['Serial'] / df['Pseudo-Parallel']\n",
    "df2 = df.copy()\n",
    "df2['Pseudo-Parallel'] /= df2.N \n",
    "df2['Serial'] /= df2.N\n",
    "df = df.melt(id_vars='N', var_name='Set', value_name='Time')\n",
    "df2 = df2.melt(id_vars='N', var_name='Set', value_name='Time')\n",
    "c1 = alt.Chart(df.query('Set != \"R\"'), width=400, height=400).mark_line().encode(x=alt.X('N', title='', axis=alt.Axis(labels=False)), y=alt.Y('Time', title='Time [s]', scale=alt.Scale(domain=[16, 1600], type='log')), color=alt.Color('Set', title=' Reconstruction Type'))\n",
    "c2 = alt.Chart(df.query('Set == \"R\"'), width=400, height=100).mark_line().encode(x=alt.X('N', title='Number of Reconstructions'), y=alt.Y('Time', title='Speedup'), color=alt.value('purple'))\n",
    "c3 = alt.Chart(df2.query('Set != \"R\"'), width=400, height=400).mark_line().encode(x=alt.X('N', title='', axis=alt.Axis(labels=False)), y=alt.Y('Time', title='Time per Spectrum [s]'), color=alt.Color('Set', title=' Reconstruction Type'))\n",
    "alt.vconcat(c1, c3, c2, spacing=5).configure_axis(labelFontSize=15, titleFontSize=24).configure_legend(labelFontSize=16, titleFontSize=16, offset=-400, padding=5, fillColor='white').configure_title(fontSize=25).save('figure6.png', scale_factor=4.0)"
   ]
  }
 ],
 "metadata": {
  "kernelspec": {
   "display_name": "gollum",
   "language": "python",
   "name": "python3"
  },
  "language_info": {
   "codemirror_mode": {
    "name": "ipython",
    "version": 3
   },
   "file_extension": ".py",
   "mimetype": "text/x-python",
   "name": "python",
   "nbconvert_exporter": "python",
   "pygments_lexer": "ipython3",
   "version": "3.12.1"
  }
 },
 "nbformat": 4,
 "nbformat_minor": 2
}
