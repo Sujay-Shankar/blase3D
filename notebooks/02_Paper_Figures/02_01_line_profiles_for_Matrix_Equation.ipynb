{
 "cells": [
  {
   "cell_type": "markdown",
   "metadata": {},
   "source": [
    "# Simple line profile for equation pedagogy"
   ]
  },
  {
   "cell_type": "markdown",
   "metadata": {},
   "source": [
    "March 2022\n",
    "\n",
    "gully\n",
    "\n",
    "\n",
    "The goal of the notebook is to make a simple pixelated line profile for use in an equation."
   ]
  },
  {
   "cell_type": "code",
   "execution_count": 1,
   "metadata": {},
   "outputs": [],
   "source": [
    "%config Completer.use_jedi = False"
   ]
  },
  {
   "cell_type": "code",
   "execution_count": 2,
   "metadata": {},
   "outputs": [],
   "source": [
    "import numpy as np\n",
    "import matplotlib.pyplot as plt\n",
    "    \n",
    "%matplotlib inline\n",
    "%config InlineBackend.figure_format='retina'"
   ]
  },
  {
   "cell_type": "code",
   "execution_count": 3,
   "metadata": {},
   "outputs": [],
   "source": [
    "from astropy.modeling.models import Voigt1D"
   ]
  },
  {
   "cell_type": "code",
   "execution_count": 4,
   "metadata": {},
   "outputs": [
    {
     "data": {
      "image/png": "[encoded data removed]",
      "text/plain": [
       "<Figure size 216x36 with 1 Axes>"
      ]
     },
     "metadata": {
      "image/png": {
       "height": 41,
       "width": 181
      },
      "needs_background": "light"
     },
     "output_type": "display_data"
    }
   ],
   "source": [
    "fig = plt.figure(figsize=(3, 0.5))\n",
    "x = np.arange(-10, 10, 0.15)\n",
    "v1 = Voigt1D(x_0=0.25, amplitude_L=-10, fwhm_L=0.5, fwhm_G=0.9)\n",
    "plt.step(x, v1(x), color='k')\n",
    "#plt.arrow(-9, -0.05, -1, 0, width=0.3,color='k',  ec='k')\n",
    "#plt.arrow(+9, -0.05, +1, 0, width=0.3,color='k',  ec='k')\n",
    "plt.axis('off');\n",
    "plt.savefig('../paper/paper1/figures/voigt_01.pdf', bbox_inches='tight')"
   ]
  },
  {
   "cell_type": "code",
   "execution_count": 5,
   "metadata": {},
   "outputs": [
    {
     "data": {
      "image/png": "[encoded data removed]",
      "text/plain": [
       "<Figure size 216x36 with 1 Axes>"
      ]
     },
     "metadata": {
      "image/png": {
       "height": 41,
       "width": 181
      },
      "needs_background": "light"
     },
     "output_type": "display_data"
    }
   ],
   "source": [
    "fig = plt.figure(figsize=(3, 0.5))\n",
    "v1 = Voigt1D(x_0=-2.05, amplitude_L=-10, fwhm_L=0.1, fwhm_G=0.5)\n",
    "plt.step(x, v1(x), color='k')\n",
    "#plt.arrow(-9, -0.05, -1, 0, width=0.15,color='k',  ec='k')\n",
    "#plt.arrow(+9, -0.05, +1, 0, width=0.15,color='k',  ec='k')\n",
    "plt.axis('off');\n",
    "plt.savefig('../paper/paper1/figures/voigt_02.pdf', bbox_inches='tight')"
   ]
  },
  {
   "cell_type": "code",
   "execution_count": 6,
   "metadata": {},
   "outputs": [
    {
     "data": {
      "image/png": "[encoded data removed]",
      "text/plain": [
       "<Figure size 216x36 with 1 Axes>"
      ]
     },
     "metadata": {
      "image/png": {
       "height": 41,
       "width": 181
      },
      "needs_background": "light"
     },
     "output_type": "display_data"
    }
   ],
   "source": [
    "fig = plt.figure(figsize=(3, 0.5))\n",
    "v1 = Voigt1D(x_0=+3.05, amplitude_L=-10, fwhm_L=0.8, fwhm_G=0.1)\n",
    "plt.step(x, v1(x), color='k')\n",
    "#plt.arrow(-9, -0.12, -1, 0, width=0.45,color='k',  ec='k')\n",
    "#plt.arrow(+9, -0.12, +1, 0, width=0.45,color='k',  ec='k')\n",
    "plt.axis('off');\n",
    "plt.savefig('../paper/paper1/figures/voigt_03.pdf', bbox_inches='tight')"
   ]
  },
  {
   "cell_type": "markdown",
   "metadata": {},
   "source": [
    "Alt!"
   ]
  },
  {
   "cell_type": "code",
   "execution_count": 7,
   "metadata": {},
   "outputs": [
    {
     "data": {
      "image/png": "[encoded data removed]",
      "text/plain": [
       "<Figure size 216x36 with 1 Axes>"
      ]
     },
     "metadata": {
      "image/png": {
       "height": 41,
       "width": 181
      },
      "needs_background": "light"
     },
     "output_type": "display_data"
    }
   ],
   "source": [
    "fig = plt.figure(figsize=(3, 0.5))\n",
    "x = np.arange(-3, 3, 0.15)+0.25\n",
    "v1 = Voigt1D(x_0=0.25, amplitude_L=-10, fwhm_L=0.5, fwhm_G=0.9)\n",
    "plt.step(x, v1(x), color='k')\n",
    "plt.axis('off');\n",
    "plt.savefig('../paper/paper1/figures/voigt_01b.pdf', bbox_inches='tight')"
   ]
  },
  {
   "cell_type": "code",
   "execution_count": 8,
   "metadata": {},
   "outputs": [
    {
     "data": {
      "image/png": "[encoded data removed]",
      "text/plain": [
       "<Figure size 216x36 with 1 Axes>"
      ]
     },
     "metadata": {
      "image/png": {
       "height": 41,
       "width": 181
      },
      "needs_background": "light"
     },
     "output_type": "display_data"
    }
   ],
   "source": [
    "fig = plt.figure(figsize=(3, 0.5))\n",
    "x = np.arange(-3, 3, 0.15)-2.0\n",
    "v1 = Voigt1D(x_0=-2.05, amplitude_L=-10, fwhm_L=0.1, fwhm_G=0.5)\n",
    "plt.step(x, v1(x), color='k')\n",
    "plt.axis('off');\n",
    "plt.savefig('../paper/paper1/figures/voigt_02b.pdf', bbox_inches='tight')"
   ]
  },
  {
   "cell_type": "code",
   "execution_count": 9,
   "metadata": {},
   "outputs": [
    {
     "data": {
      "image/png": "[encoded data removed]",
      "text/plain": [
       "<Figure size 216x36 with 1 Axes>"
      ]
     },
     "metadata": {
      "image/png": {
       "height": 41,
       "width": 181
      },
      "needs_background": "light"
     },
     "output_type": "display_data"
    }
   ],
   "source": [
    "fig = plt.figure(figsize=(3, 0.5))\n",
    "x = np.arange(-3, 3, 0.15)+3.0\n",
    "v1 = Voigt1D(x_0=3.05, amplitude_L=-10, fwhm_L=0.8, fwhm_G=0.1)\n",
    "plt.step(x, v1(x), color='k')\n",
    "plt.axis('off');\n",
    "plt.savefig('../paper/paper1/figures/voigt_03b.pdf', bbox_inches='tight')"
   ]
  }
 ],
 "metadata": {
  "kernelspec": {
   "display_name": "Python 3 (ipykernel)",
   "language": "python",
   "name": "python3"
  },
  "language_info": {
   "codemirror_mode": {
    "name": "ipython",
    "version": 3
   },
   "file_extension": ".py",
   "mimetype": "text/x-python",
   "name": "python",
   "nbconvert_exporter": "python",
   "pygments_lexer": "ipython3",
   "version": "3.8.12"
  }
 },
 "nbformat": 4,
 "nbformat_minor": 4
}
