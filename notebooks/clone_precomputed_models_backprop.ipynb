{
 "cells": [
  {
   "cell_type": "markdown",
   "metadata": {},
   "source": [
    "# Clone precomputed models\n",
    "\n",
    "\n",
    "gully  \n",
    "April 26, 2021"
   ]
  },
  {
   "cell_type": "code",
   "execution_count": null,
   "metadata": {},
   "outputs": [],
   "source": [
    "import matplotlib.pyplot as plt\n",
    "%matplotlib inline\n",
    "%config InlineBackend.figure_format='retina'\n",
    "\n",
    "import seaborn as sns\n",
    "sns.set_context('paper', font_scale=2)"
   ]
  },
  {
   "cell_type": "code",
   "execution_count": null,
   "metadata": {},
   "outputs": [],
   "source": [
    "import torch\n",
    "from blase.multiorder import MultiOrder\n",
    "from blase.datasets import HPFDataset"
   ]
  },
  {
   "cell_type": "code",
   "execution_count": null,
   "metadata": {},
   "outputs": [],
   "source": [
    "import numpy as np\n",
    "from scipy.signal import find_peaks, find_peaks_cwt, peak_prominences, peak_widths\n",
    "from scipy.ndimage import gaussian_filter1d"
   ]
  },
  {
   "cell_type": "code",
   "execution_count": null,
   "metadata": {},
   "outputs": [],
   "source": [
    "device = \"cpu\"\n",
    "data = HPFDataset(\"../test/data/Goldilocks_20191022T013208_v1.0_0003.spectra.fits\")\n",
    "model = MultiOrder(device=device, wl_data=data.data_cube[6, :, :])\n",
    "spectrum = model.forward(5)"
   ]
  },
  {
   "cell_type": "code",
   "execution_count": null,
   "metadata": {},
   "outputs": [],
   "source": [
    "smoothed_flux = gaussian_filter1d(model.flux_native.cpu(), sigma=10.0)"
   ]
  },
  {
   "cell_type": "code",
   "execution_count": null,
   "metadata": {},
   "outputs": [],
   "source": [
    "peaks, _ = find_peaks(-smoothed_flux, distance=10, prominence=0.05)"
   ]
  },
  {
   "cell_type": "code",
   "execution_count": null,
   "metadata": {},
   "outputs": [],
   "source": [
    "prominence_data = peak_prominences(-smoothed_flux, peaks)\n",
    "width_data = peak_widths(-smoothed_flux, peaks, prominence_data=prominence_data)"
   ]
  },
  {
   "cell_type": "code",
   "execution_count": null,
   "metadata": {},
   "outputs": [],
   "source": [
    "prominences, left, right = prominence_data\n",
    "widths, width_heights, left_ips, right_ips = width_data"
   ]
  },
  {
   "cell_type": "code",
   "execution_count": null,
   "metadata": {},
   "outputs": [],
   "source": [
    "def lorentzian_line(lam_center, width, amplitude, wavelengths):\n",
    "    '''Return a Lorentzian line, given properties'''\n",
    "    return amplitude/3.141592654 * width/(width**2 + (wavelengths - lam_center)**2)"
   ]
  },
  {
   "cell_type": "code",
   "execution_count": null,
   "metadata": {},
   "outputs": [],
   "source": [
    "def gaussian_line(lam_center, width, amplitude, wavelengths):\n",
    "    '''Return a Gaussian line, given properties'''\n",
    "    return amplitude/(width*torch.sqrt(torch.tensor(2*3.14159))) * torch.exp(-0.5*((wavelengths - lam_center) / width)**2)"
   ]
  },
  {
   "cell_type": "code",
   "execution_count": null,
   "metadata": {},
   "outputs": [],
   "source": [
    "def black_body(Teff, wavelengths, scale):\n",
    "    '''Make a black body spectrum given Teff and wavelengths'''\n",
    "    unnormalized = 1/wavelengths**5 * 1/(torch.exp(1.4387752e-2/(wavelengths*1e-10*Teff)) - 1)\n",
    "    normalized = unnormalized / torch.mean(unnormalized)\n",
    "    return scale*normalized"
   ]
  },
  {
   "cell_type": "code",
   "execution_count": null,
   "metadata": {},
   "outputs": [],
   "source": [
    "lam_centers = model.wl_native[peaks]"
   ]
  },
  {
   "cell_type": "markdown",
   "metadata": {},
   "source": [
    "Convert the FWHM in units of Angstroms: $$\\sigma(Angstroms) = FWHM\\frac{pixels}{1} \\times \\frac{Angstrom}{pixel} \\times \\frac{1}{2.355}$$"
   ]
  },
  {
   "cell_type": "code",
   "execution_count": null,
   "metadata": {},
   "outputs": [],
   "source": [
    "d_lam = np.diff(model.wl_native.cpu())[peaks]\n",
    "widths_angs = torch.tensor(widths * d_lam / 2.355) * 0.83804203 *0.77116 * 1.58# Experimentally determined"
   ]
  },
  {
   "cell_type": "markdown",
   "metadata": {},
   "source": [
    "The prominence scale factor may not be exactly 1."
   ]
  },
  {
   "cell_type": "code",
   "execution_count": null,
   "metadata": {},
   "outputs": [],
   "source": [
    "prominence_scale_factor = 0.461*0.55736 *1.67# Experimentally determined\n",
    "amplitudes = torch.tensor(prominences * prominence_scale_factor)"
   ]
  },
  {
   "cell_type": "markdown",
   "metadata": {},
   "source": [
    "Temporarily tilt the cloned model towards the smoothed spectrum and offset for clarity."
   ]
  },
  {
   "cell_type": "markdown",
   "metadata": {},
   "source": [
    "## Apply Neural Network Training and Backpropagation"
   ]
  },
  {
   "cell_type": "code",
   "execution_count": null,
   "metadata": {},
   "outputs": [],
   "source": [
    "import torch\n",
    "from torch import nn"
   ]
  },
  {
   "cell_type": "code",
   "execution_count": null,
   "metadata": {},
   "outputs": [],
   "source": [
    "class PhoenixEmulator(nn.Module):\n",
    "    r\"\"\"\n",
    "    A PyTorch layer that provides a parameter set and transformations to clone precomputed synthetic spectra.\n",
    "\n",
    "    \"\"\"\n",
    "\n",
    "    def __init__(self):\n",
    "        super().__init__()\n",
    "\n",
    "        # Read in the synthetic spectra at native resolution\n",
    "        #self.wl_native, self.flux_native = self.read_native_PHOENIX_model(4700, 4.5)\n",
    "\n",
    "        \n",
    "        self.amplitudes = nn.Parameter(\n",
    "            torch.tensor(amplitudes, requires_grad=True, dtype=torch.float64)\n",
    "        )\n",
    "        self.widths = nn.Parameter(\n",
    "            torch.tensor(widths_angs, requires_grad=True, dtype=torch.float64)\n",
    "        )\n",
    "        self.lam_centers = nn.Parameter(\n",
    "            torch.tensor(lam_centers, requires_grad=True, dtype=torch.float64)\n",
    "        )\n",
    "\n",
    "        self.teff = nn.Parameter(\n",
    "            torch.tensor(5700, requires_grad=True, dtype=torch.float64)\n",
    "        )\n",
    "        \n",
    "        self.bb_scale = nn.Parameter(\n",
    "            torch.tensor(1.0, requires_grad=True, dtype=torch.float64)\n",
    "        )\n",
    "        \n",
    "\n",
    "    def forward(self):\n",
    "        \"\"\"The forward pass of the spectral model\n",
    "\n",
    "        Returns:\n",
    "            (torch.tensor): the 1D generative spectral model destined for backpropagation parameter tuning\n",
    "        \"\"\"\n",
    "\n",
    "        output = lorentzian_line(self.lam_centers.unsqueeze(1), \n",
    "                          self.widths.unsqueeze(1), \n",
    "                          self.amplitudes.unsqueeze(1), model.wl_native.unsqueeze(0))\n",
    "        \n",
    "        net_spectrum = 1-output.sum(0)\n",
    "        correction_factor = black_body(self.teff, model.wl_native, self.bb_scale)\n",
    "        final = net_spectrum * correction_factor\n",
    "        return final"
   ]
  },
  {
   "cell_type": "code",
   "execution_count": null,
   "metadata": {},
   "outputs": [],
   "source": [
    "%%capture\n",
    "emulator = PhoenixEmulator()"
   ]
  },
  {
   "cell_type": "code",
   "execution_count": null,
   "metadata": {},
   "outputs": [],
   "source": [
    "%%time\n",
    "cloned_spectrum = emulator.forward()"
   ]
  },
  {
   "cell_type": "code",
   "execution_count": null,
   "metadata": {},
   "outputs": [],
   "source": [
    "from tqdm import trange\n",
    "import torch.optim as optim\n",
    "import time"
   ]
  },
  {
   "cell_type": "code",
   "execution_count": null,
   "metadata": {},
   "outputs": [],
   "source": [
    "target = torch.tensor(smoothed_flux)"
   ]
  },
  {
   "cell_type": "code",
   "execution_count": null,
   "metadata": {},
   "outputs": [],
   "source": [
    "loss_fn = nn.MSELoss(reduction=\"mean\")\n",
    "optimizer = optim.Adam(model.parameters(), 0.02)\n",
    "n_epochs = 50\n",
    "losses = []\n",
    "\n",
    "t0 = time.time()\n",
    "t_iter = trange(n_epochs, desc=\"Training\", leave=True)\n",
    "for epoch in t_iter:\n",
    "    emulator.train()\n",
    "    yhat = emulator.forward()\n",
    "    loss = loss_fn(yhat, target)\n",
    "    loss.backward()\n",
    "    optimizer.step()\n",
    "    optimizer.zero_grad()\n",
    "    losses.append(loss.item())"
   ]
  },
  {
   "cell_type": "code",
   "execution_count": null,
   "metadata": {},
   "outputs": [],
   "source": []
  }
 ],
 "metadata": {
  "kernelspec": {
   "display_name": "Python 3",
   "language": "python",
   "name": "python3"
  },
  "language_info": {
   "codemirror_mode": {
    "name": "ipython",
    "version": 3
   },
   "file_extension": ".py",
   "mimetype": "text/x-python",
   "name": "python",
   "nbconvert_exporter": "python",
   "pygments_lexer": "ipython3",
   "version": "3.8.5"
  }
 },
 "nbformat": 4,
 "nbformat_minor": 4
}
